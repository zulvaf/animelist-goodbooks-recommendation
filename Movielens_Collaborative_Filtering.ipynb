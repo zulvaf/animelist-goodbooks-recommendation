{
 "cells": [
  {
   "cell_type": "code",
   "execution_count": null,
   "metadata": {
    "colab": {
     "base_uri": "https://localhost:8080/"
    },
    "executionInfo": {
     "elapsed": 78667,
     "status": "ok",
     "timestamp": 1746938182775,
     "user": {
      "displayName": "Zaa Zii",
      "userId": "04955836007482077944"
     },
     "user_tz": -420
    },
    "id": "KhOgl7KWB430",
    "outputId": "2f5a547b-8009-4832-ae8a-a59f7c52a931"
   },
   "outputs": [],
   "source": [
    "!pip install recommenders surprise cornac==2.3.0 ranx"
   ]
  },
  {
   "cell_type": "code",
   "execution_count": null,
   "metadata": {
    "colab": {
     "base_uri": "https://localhost:8080/"
    },
    "executionInfo": {
     "elapsed": 50131,
     "status": "ok",
     "timestamp": 1746938232909,
     "user": {
      "displayName": "Zaa Zii",
      "userId": "04955836007482077944"
     },
     "user_tz": -420
    },
    "id": "epK8DhsPCAEb",
    "outputId": "8d99dddd-812e-4f4f-aa50-db1530beb76c"
   },
   "outputs": [],
   "source": [
    "!add-apt-repository ppa:ubuntu-toolchain-r/test\n",
    "!apt-get update\n",
    "!apt-get install --only-upgrade libstdc++6"
   ]
  },
  {
   "cell_type": "markdown",
   "metadata": {
    "id": "3XrfX7pToNj2"
   },
   "source": [
    "## Preparation"
   ]
  },
  {
   "cell_type": "code",
   "execution_count": 33,
   "metadata": {
    "executionInfo": {
     "elapsed": 124,
     "status": "ok",
     "timestamp": 1746939756201,
     "user": {
      "displayName": "Zaa Zii",
      "userId": "04955836007482077944"
     },
     "user_tz": -420
    },
    "id": "xHracqbtUehK"
   },
   "outputs": [],
   "source": [
    "!cp '/content/drive/MyDrive/Final Project/Codes/animelist-goodbooks-recommendation/utils.py' ."
   ]
  },
  {
   "cell_type": "code",
   "execution_count": 7,
   "metadata": {
    "executionInfo": {
     "elapsed": 4812,
     "status": "ok",
     "timestamp": 1746938305920,
     "user": {
      "displayName": "Zaa Zii",
      "userId": "04955836007482077944"
     },
     "user_tz": -420
    },
    "id": "_0CNkJOPCBKk"
   },
   "outputs": [],
   "source": [
    "import pandas as pd\n",
    "import sys\n",
    "import surprise\n",
    "import cornac\n",
    "import recommenders\n",
    "\n",
    "from recommenders.utils.timer import Timer\n",
    "from recommenders.datasets import movielens\n",
    "from recommenders.datasets.python_splitters import python_random_split\n",
    "from recommenders.evaluation.python_evaluation import (\n",
    "    rmse,\n",
    "    mae,\n",
    "    rsquared,\n",
    "    exp_var,\n",
    "    map_at_k,\n",
    "    ndcg_at_k,\n",
    "    precision_at_k,\n",
    "    recall_at_k,\n",
    "    get_top_k_items,\n",
    ")\n",
    "from recommenders.datasets.python_splitters import python_chrono_split\n",
    "from recommenders.models.surprise.surprise_utils import (\n",
    "    predict\n",
    ")\n",
    "from recommenders.utils.notebook_utils import store_metadata\n",
    "from recommenders.models.cornac.cornac_utils import predict_ranking\n",
    "\n",
    "from ranx import Qrels, Run, evaluate\n",
    "\n",
    "from surprise import Dataset, NormalPredictor, Reader\n",
    "from utils import compute_ranking_predictions"
   ]
  },
  {
   "cell_type": "code",
   "execution_count": 8,
   "metadata": {
    "executionInfo": {
     "elapsed": 5,
     "status": "ok",
     "timestamp": 1746938305927,
     "user": {
      "displayName": "Zaa Zii",
      "userId": "04955836007482077944"
     },
     "user_tz": -420
    },
    "id": "J6zmZfd0TVj0"
   },
   "outputs": [],
   "source": [
    "DATA_PATH = '/content/drive/MyDrive/Final Project/Codes/animelist-goodbooks-recommendation/ml-1m/data_split/'"
   ]
  },
  {
   "cell_type": "code",
   "execution_count": 9,
   "metadata": {
    "executionInfo": {
     "elapsed": 2917,
     "status": "ok",
     "timestamp": 1746938308847,
     "user": {
      "displayName": "Zaa Zii",
      "userId": "04955836007482077944"
     },
     "user_tz": -420
    },
    "id": "7fmfYkAwTwHL"
   },
   "outputs": [],
   "source": [
    "train_data = pd.read_csv(f'{DATA_PATH}/data_train_full.tsv', sep='\\t')\n",
    "test_data = pd.read_csv(f'{DATA_PATH}/data_test.tsv', sep='\\t')"
   ]
  },
  {
   "cell_type": "code",
   "execution_count": 10,
   "metadata": {
    "colab": {
     "base_uri": "https://localhost:8080/"
    },
    "executionInfo": {
     "elapsed": 5,
     "status": "ok",
     "timestamp": 1746938308860,
     "user": {
      "displayName": "Zaa Zii",
      "userId": "04955836007482077944"
     },
     "user_tz": -420
    },
    "id": "mHZqoHVdemiv",
    "outputId": "b22b6da8-5bdc-45f0-c712-8acbfc0173fb"
   },
   "outputs": [
    {
     "data": {
      "text/plain": [
       "(665395, 166351)"
      ]
     },
     "execution_count": 10,
     "metadata": {},
     "output_type": "execute_result"
    }
   ],
   "source": [
    "len(train_data), len(test_data)"
   ]
  },
  {
   "cell_type": "code",
   "execution_count": 11,
   "metadata": {
    "executionInfo": {
     "elapsed": 1,
     "status": "ok",
     "timestamp": 1746938308862,
     "user": {
      "displayName": "Zaa Zii",
      "userId": "04955836007482077944"
     },
     "user_tz": -420
    },
    "id": "t8W7Xvo1Nu_k"
   },
   "outputs": [],
   "source": [
    "# Model parameters\n",
    "NUM_EPOCHS = 20\n",
    "SEED=100"
   ]
  },
  {
   "cell_type": "markdown",
   "metadata": {
    "id": "oJtrl3z150zB"
   },
   "source": [
    "## Check Library Version"
   ]
  },
  {
   "cell_type": "code",
   "execution_count": 39,
   "metadata": {
    "colab": {
     "base_uri": "https://localhost:8080/"
    },
    "executionInfo": {
     "elapsed": 5511,
     "status": "ok",
     "timestamp": 1746943573641,
     "user": {
      "displayName": "Zaa Zii",
      "userId": "04955836007482077944"
     },
     "user_tz": -420
    },
    "id": "cVKNsIh450QZ",
    "outputId": "cedad87b-1076-4583-b008-cf9e60471125"
   },
   "outputs": [
    {
     "name": "stdout",
     "output_type": "stream",
     "text": [
      "pandas: 2.2.2\n",
      "numpy: 1.26.4\n",
      "surprise: 1.1.4\n",
      "cornac: 2.3.0\n",
      "recommenders: 1.2.1\n",
      "seaborn: 0.13.2\n",
      "matplotlib: 3.10.0\n",
      "torch: 2.6.0+cu124\n"
     ]
    }
   ],
   "source": [
    "import pandas as pd\n",
    "import numpy as np\n",
    "import surprise\n",
    "import cornac\n",
    "import recommenders\n",
    "import ranx\n",
    "import seaborn\n",
    "import matplotlib\n",
    "import torch\n",
    "\n",
    "print(f\"{pd.__name__}: {pd.__version__}\")\n",
    "print(f\"{np.__name__}: {np.__version__}\")\n",
    "print(f\"{surprise.__name__}: {surprise.__version__}\")\n",
    "print(f\"{cornac.__name__}: {cornac.__version__}\")\n",
    "print(f\"{recommenders.__name__}: {recommenders.__version__}\")\n",
    "print(f\"{seaborn.__name__}: {seaborn.__version__}\")\n",
    "print(f\"{matplotlib.__name__}: {matplotlib.__version__}\")\n",
    "print(f\"{torch.__name__}: {torch.__version__}\")"
   ]
  },
  {
   "cell_type": "markdown",
   "metadata": {
    "id": "y_TvETM4NwQn"
   },
   "source": [
    "## SVD"
   ]
  },
  {
   "cell_type": "code",
   "execution_count": null,
   "metadata": {
    "colab": {
     "base_uri": "https://localhost:8080/"
    },
    "executionInfo": {
     "elapsed": 651,
     "status": "ok",
     "timestamp": 1745056990049,
     "user": {
      "displayName": "Zaa Zii",
      "userId": "04955836007482077944"
     },
     "user_tz": -420
    },
    "id": "a0jUoRSOTxeq",
    "outputId": "4314dc35-58c0-43f3-b80a-40710ff19767"
   },
   "outputs": [
    {
     "data": {
      "text/plain": [
       "<surprise.trainset.Trainset at 0x7dedbf4982d0>"
      ]
     },
     "execution_count": 7,
     "metadata": {},
     "output_type": "execute_result"
    }
   ],
   "source": [
    "# A reader is still needed but only the rating_scale param is required.\n",
    "reader = Reader(rating_scale=(1, 5))\n",
    "\n",
    "# The columns must correspond to user id, item id and ratings (in that order).\n",
    "train_set = Dataset.load_from_df(train_data[[\"user_id\", \"movie_id\", \"rating\"]], reader).build_full_trainset()\n",
    "train_set"
   ]
  },
  {
   "cell_type": "code",
   "execution_count": null,
   "metadata": {
    "colab": {
     "base_uri": "https://localhost:8080/"
    },
    "executionInfo": {
     "elapsed": 4134,
     "status": "ok",
     "timestamp": 1745056994186,
     "user": {
      "displayName": "Zaa Zii",
      "userId": "04955836007482077944"
     },
     "user_tz": -420
    },
    "id": "ExDAnj0nUCru",
    "outputId": "c14eeedd-fef6-4b5c-e900-97b2e21050d1"
   },
   "outputs": [
    {
     "name": "stdout",
     "output_type": "stream",
     "text": [
      "Processing epoch 0\n",
      "Processing epoch 1\n",
      "Processing epoch 2\n",
      "Processing epoch 3\n",
      "Processing epoch 4\n",
      "Processing epoch 5\n",
      "Processing epoch 6\n",
      "Processing epoch 7\n",
      "Processing epoch 8\n",
      "Processing epoch 9\n",
      "Processing epoch 10\n",
      "Processing epoch 11\n",
      "Processing epoch 12\n",
      "Processing epoch 13\n",
      "Processing epoch 14\n",
      "Processing epoch 15\n",
      "Processing epoch 16\n",
      "Processing epoch 17\n",
      "Processing epoch 18\n",
      "Processing epoch 19\n",
      "Took 4.225704836000034 seconds for training.\n"
     ]
    }
   ],
   "source": [
    "svd = surprise.SVD(random_state=SEED, n_epochs=NUM_EPOCHS, verbose=True)\n",
    "\n",
    "with Timer() as train_time:\n",
    "    svd.fit(train_set)\n",
    "\n",
    "print(f\"Took {train_time.interval} seconds for training.\")"
   ]
  },
  {
   "cell_type": "code",
   "execution_count": null,
   "metadata": {
    "colab": {
     "base_uri": "https://localhost:8080/",
     "height": 66,
     "referenced_widgets": [
      "d42511ff8e6e40aa965ebdf5acdaad04",
      "94eaf0acd14c4de2ac34565267e5386a",
      "a377a455e19648f382856255660c7ba9",
      "da7e13976e2d4c7abdb3197f855c6090",
      "9d3bb44e2c2e4aef8328d0608a424b16",
      "64d2bafee11c4b34b144e0fa711088f2",
      "9483f0c05a4d41a3bb32456218be9211",
      "bfbeac06e4e047c7ac4a53411c666e28",
      "9509b648b0774e7b9b8d68ad0857cf40",
      "fe1ddf7cc95d4dc9b9a049880952594a",
      "13bc599269334398a4d7d08c1a402374"
     ]
    },
    "executionInfo": {
     "elapsed": 141787,
     "status": "ok",
     "timestamp": 1745057138424,
     "user": {
      "displayName": "Zaa Zii",
      "userId": "04955836007482077944"
     },
     "user_tz": -420
    },
    "id": "bwq0s_r1YFgJ",
    "outputId": "8026ed9a-fa78-4f55-ee17-8b60cd6856a7"
   },
   "outputs": [
    {
     "data": {
      "application/vnd.jupyter.widget-view+json": {
       "model_id": "d42511ff8e6e40aa965ebdf5acdaad04",
       "version_major": 2,
       "version_minor": 0
      },
      "text/plain": [
       "  0%|          | 0/5755 [00:00<?, ?it/s]"
      ]
     },
     "metadata": {},
     "output_type": "display_data"
    },
    {
     "name": "stdout",
     "output_type": "stream",
     "text": [
      "Took 141.70557476300002 seconds for prediction.\n"
     ]
    }
   ],
   "source": [
    "with Timer() as test_time:\n",
    "    all_predictions_svd = compute_ranking_predictions(\n",
    "        svd, train_data, usercol=\"user_id\", itemcol=\"movie_id\", predcol=\"prediction\", remove_seen=True\n",
    "    )\n",
    "\n",
    "print(f\"Took {test_time.interval} seconds for prediction.\")"
   ]
  },
  {
   "cell_type": "markdown",
   "metadata": {
    "id": "sEi05fueXftv"
   },
   "source": [
    "## BPR and Mpop"
   ]
  },
  {
   "cell_type": "code",
   "execution_count": null,
   "metadata": {
    "colab": {
     "base_uri": "https://localhost:8080/"
    },
    "executionInfo": {
     "elapsed": 1285,
     "status": "ok",
     "timestamp": 1745057142788,
     "user": {
      "displayName": "Zaa Zii",
      "userId": "04955836007482077944"
     },
     "user_tz": -420
    },
    "id": "csqjSaQRXitv",
    "outputId": "8fa55a98-ea43-40ba-d6ef-ef10e90d685c"
   },
   "outputs": [
    {
     "name": "stdout",
     "output_type": "stream",
     "text": [
      "rating_threshold = 1.0\n",
      "exclude_unknowns = True\n",
      "---\n",
      "Training data:\n",
      "Number of users = 5755\n",
      "Number of items = 3571\n",
      "Number of ratings = 665395\n",
      "Max rating = 5.0\n",
      "Min rating = 3.0\n",
      "Global mean = 4.0\n",
      "---\n",
      "Test data:\n",
      "Number of users = 5755\n",
      "Number of items = 3571\n",
      "Number of ratings = 166276\n",
      "Number of unknown users = 0\n",
      "Number of unknown items = 0\n",
      "---\n",
      "Total users = 5755\n",
      "Total items = 3571\n"
     ]
    }
   ],
   "source": [
    "eval_method = cornac.eval_methods.BaseMethod.from_splits(\n",
    "  train_data=list(train_data[['user_id', 'movie_id', 'rating']].itertuples(index=False)),\n",
    "  test_data=list(test_data[['user_id', 'movie_id', 'rating']].itertuples(index=False)),\n",
    "  exclude_unknowns=True,\n",
    "  verbose=True,\n",
    "  seed=SEED,\n",
    ")"
   ]
  },
  {
   "cell_type": "code",
   "execution_count": null,
   "metadata": {
    "id": "BXItNUQkUEFY"
   },
   "outputs": [],
   "source": [
    "bpr = cornac.models.BPR(\n",
    "    max_iter=NUM_EPOCHS,\n",
    "    verbose=True,\n",
    "    seed=SEED\n",
    ")\n",
    "most_pop = cornac.models.MostPop()"
   ]
  },
  {
   "cell_type": "code",
   "execution_count": null,
   "metadata": {
    "colab": {
     "base_uri": "https://localhost:8080/",
     "height": 84,
     "referenced_widgets": [
      "d66970dd6ad6465dbac1f3d35d6c7e33",
      "fd53a99e720e40d1a34cf4c19876eab9",
      "56af40c01c404a40881085fbaae83a26",
      "931c72fb5dc1465ebc1c1b630ec68bd4",
      "c36d6ad453db4acc868865086f7551de",
      "97c292ff70d348a09339e7bedf6f349f",
      "7bcb913c22724a9e83b5878ffbd6dc5a",
      "3aea748630a541a993d045f3a9c966ca",
      "a84175179a6d4c3ba81345dbba8bc2c4",
      "21730ff1148d44dc89982e6143f360b9",
      "4216229db5cf4fbca9ee6178eef5387b"
     ]
    },
    "executionInfo": {
     "elapsed": 2539,
     "status": "ok",
     "timestamp": 1745057145562,
     "user": {
      "displayName": "Zaa Zii",
      "userId": "04955836007482077944"
     },
     "user_tz": -420
    },
    "id": "B7ylhHWyXr59",
    "outputId": "b10c6193-bb7d-4be9-81db-f75b436a095d"
   },
   "outputs": [
    {
     "data": {
      "application/vnd.jupyter.widget-view+json": {
       "model_id": "d66970dd6ad6465dbac1f3d35d6c7e33",
       "version_major": 2,
       "version_minor": 0
      },
      "text/plain": [
       "  0%|          | 0/20 [00:00<?, ?it/s]"
      ]
     },
     "metadata": {},
     "output_type": "display_data"
    },
    {
     "name": "stdout",
     "output_type": "stream",
     "text": [
      "Optimization finished!\n",
      "Took 2.5233 seconds for training.\n"
     ]
    }
   ],
   "source": [
    "with Timer() as t:\n",
    "    bpr.fit(eval_method.train_set)\n",
    "print(\"Took {} seconds for training.\".format(t))"
   ]
  },
  {
   "cell_type": "code",
   "execution_count": null,
   "metadata": {
    "colab": {
     "base_uri": "https://localhost:8080/"
    },
    "executionInfo": {
     "elapsed": 7,
     "status": "ok",
     "timestamp": 1745057145619,
     "user": {
      "displayName": "Zaa Zii",
      "userId": "04955836007482077944"
     },
     "user_tz": -420
    },
    "id": "m70sAs0mXsUT",
    "outputId": "21818815-0ce7-43cf-80d5-c2fc95422fbf"
   },
   "outputs": [
    {
     "name": "stdout",
     "output_type": "stream",
     "text": [
      "Took 0.0077 seconds for training.\n"
     ]
    }
   ],
   "source": [
    "with Timer() as t:\n",
    "    most_pop.fit(eval_method.train_set)\n",
    "print(\"Took {} seconds for training.\".format(t))"
   ]
  },
  {
   "cell_type": "code",
   "execution_count": null,
   "metadata": {
    "colab": {
     "base_uri": "https://localhost:8080/"
    },
    "executionInfo": {
     "elapsed": 17179,
     "status": "ok",
     "timestamp": 1745057162800,
     "user": {
      "displayName": "Zaa Zii",
      "userId": "04955836007482077944"
     },
     "user_tz": -420
    },
    "id": "wzjIFXXoatmS",
    "outputId": "fd5bda58-1a8d-4b5c-9b5a-5fe01d473805"
   },
   "outputs": [
    {
     "name": "stdout",
     "output_type": "stream",
     "text": [
      "Took 17.2196 seconds for prediction.\n"
     ]
    }
   ],
   "source": [
    "with Timer() as t:\n",
    "    all_predictions_bpr = predict_ranking(bpr, train_data, usercol='user_id', itemcol='movie_id', remove_seen=True)\n",
    "print(\"Took {} seconds for prediction.\".format(t))"
   ]
  },
  {
   "cell_type": "code",
   "execution_count": null,
   "metadata": {
    "colab": {
     "base_uri": "https://localhost:8080/"
    },
    "executionInfo": {
     "elapsed": 18453,
     "status": "ok",
     "timestamp": 1745057181270,
     "user": {
      "displayName": "Zaa Zii",
      "userId": "04955836007482077944"
     },
     "user_tz": -420
    },
    "id": "OYoy3qaJazkb",
    "outputId": "36f7c87c-3b7f-4af2-b1e0-b71575c21330"
   },
   "outputs": [
    {
     "name": "stdout",
     "output_type": "stream",
     "text": [
      "Took 18.4257 seconds for prediction.\n"
     ]
    }
   ],
   "source": [
    "with Timer() as t:\n",
    "  all_predictions_mpop = predict_ranking(most_pop, train_data, usercol='user_id', itemcol='movie_id', remove_seen=True)\n",
    "print(\"Took {} seconds for prediction.\".format(t))"
   ]
  },
  {
   "cell_type": "markdown",
   "metadata": {
    "id": "Mdia0RNSXwfI"
   },
   "source": [
    "## Evaluate"
   ]
  },
  {
   "cell_type": "code",
   "execution_count": null,
   "metadata": {
    "id": "No3vyq8iXxya"
   },
   "outputs": [],
   "source": [
    "ranking_metrics_svd = {\n",
    "    'Precision@1' : precision_at_k(test_data, all_predictions_svd, col_user=\"user_id\", col_item=\"movie_id\", col_rating='rating', k=1),\n",
    "    'Precision@10' : precision_at_k(test_data, all_predictions_svd, col_user=\"user_id\", col_item=\"movie_id\", col_rating='rating', k=10),\n",
    "    'Precision@20' : precision_at_k(test_data, all_predictions_svd, col_user=\"user_id\", col_item=\"movie_id\", col_rating='rating', k=20),\n",
    "    'Recall@1' : recall_at_k(test_data, all_predictions_svd, col_user=\"user_id\", col_item=\"movie_id\", col_rating='rating', k=1),\n",
    "    'Recall@10' : recall_at_k(test_data, all_predictions_svd, col_user=\"user_id\", col_item=\"movie_id\", col_rating='rating', k=10),\n",
    "    'Recall@20' : recall_at_k(test_data, all_predictions_svd, col_user=\"user_id\", col_item=\"movie_id\", col_rating='rating', k=20),\n",
    "    'NDCG@1' : ndcg_at_k(test_data, all_predictions_svd, col_user=\"user_id\", col_item=\"movie_id\", col_rating='rating', k=1),\n",
    "    'NDCG@10' : ndcg_at_k(test_data, all_predictions_svd, col_user=\"user_id\", col_item=\"movie_id\", col_rating='rating', k=10),\n",
    "    'NDCG@20' : ndcg_at_k(test_data, all_predictions_svd, col_user=\"user_id\", col_item=\"movie_id\", col_rating='rating', k=20)\n",
    "}"
   ]
  },
  {
   "cell_type": "code",
   "execution_count": null,
   "metadata": {
    "id": "PItKc8oLYLy6"
   },
   "outputs": [],
   "source": [
    "ranking_metrics_bpr = {\n",
    "    'Precision@1' : precision_at_k(test_data, all_predictions_bpr, col_user=\"user_id\", col_item=\"movie_id\", col_rating='rating', k=1),\n",
    "    'Precision@10' : precision_at_k(test_data, all_predictions_bpr, col_user=\"user_id\", col_item=\"movie_id\", col_rating='rating', k=10),\n",
    "    'Precision@20' : precision_at_k(test_data, all_predictions_bpr, col_user=\"user_id\", col_item=\"movie_id\", col_rating='rating', k=20),\n",
    "    'Recall@1' : recall_at_k(test_data, all_predictions_bpr, col_user=\"user_id\", col_item=\"movie_id\", col_rating='rating', k=1),\n",
    "    'Recall@10' : recall_at_k(test_data, all_predictions_bpr, col_user=\"user_id\", col_item=\"movie_id\", col_rating='rating', k=10),\n",
    "    'Recall@20' : recall_at_k(test_data, all_predictions_bpr, col_user=\"user_id\", col_item=\"movie_id\", col_rating='rating', k=20),\n",
    "    'NDCG@1' : ndcg_at_k(test_data, all_predictions_bpr, col_user=\"user_id\", col_item=\"movie_id\", col_rating='rating', k=1),\n",
    "    'NDCG@10' : ndcg_at_k(test_data, all_predictions_bpr, col_user=\"user_id\", col_item=\"movie_id\", col_rating='rating', k=10),\n",
    "    'NDCG@20' : ndcg_at_k(test_data, all_predictions_bpr, col_user=\"user_id\", col_item=\"movie_id\", col_rating='rating', k=20)\n",
    "}"
   ]
  },
  {
   "cell_type": "code",
   "execution_count": null,
   "metadata": {
    "id": "KpIWY6ZPYPcx"
   },
   "outputs": [],
   "source": [
    "ranking_metrics_mpop = {\n",
    "    'Precision@1' : precision_at_k(test_data, all_predictions_mpop, col_user=\"user_id\", col_item=\"movie_id\", col_rating='rating', k=1),\n",
    "    'Precision@10' : precision_at_k(test_data, all_predictions_mpop, col_user=\"user_id\", col_item=\"movie_id\", col_rating='rating', k=10),\n",
    "    'Precision@20' : precision_at_k(test_data, all_predictions_mpop, col_user=\"user_id\", col_item=\"movie_id\", col_rating='rating', k=20),\n",
    "    'Recall@1' : recall_at_k(test_data, all_predictions_mpop, col_user=\"user_id\", col_item=\"movie_id\", col_rating='rating', k=1),\n",
    "    'Recall@10' : recall_at_k(test_data, all_predictions_mpop, col_user=\"user_id\", col_item=\"movie_id\", col_rating='rating', k=10),\n",
    "    'Recall@20' : recall_at_k(test_data, all_predictions_mpop, col_user=\"user_id\", col_item=\"movie_id\", col_rating='rating', k=20),\n",
    "    'NDCG@1' : ndcg_at_k(test_data, all_predictions_mpop, col_user=\"user_id\", col_item=\"movie_id\", col_rating='rating', k=1),\n",
    "    'NDCG@10' : ndcg_at_k(test_data, all_predictions_mpop, col_user=\"user_id\", col_item=\"movie_id\", col_rating='rating', k=10),\n",
    "    'NDCG@20' : ndcg_at_k(test_data, all_predictions_mpop, col_user=\"user_id\", col_item=\"movie_id\", col_rating='rating', k=20)\n",
    "}"
   ]
  },
  {
   "cell_type": "code",
   "execution_count": null,
   "metadata": {
    "colab": {
     "base_uri": "https://localhost:8080/",
     "height": 331
    },
    "executionInfo": {
     "elapsed": 28,
     "status": "ok",
     "timestamp": 1745055235709,
     "user": {
      "displayName": "Zaa Zii",
      "userId": "04955836007482077944"
     },
     "user_tz": -420
    },
    "id": "hMBrtskkrtYc",
    "outputId": "61e8276f-f760-41f5-ffef-616664d6cefb"
   },
   "outputs": [
    {
     "data": {
      "application/vnd.google.colaboratory.intrinsic+json": {
       "summary": "{\n  \"name\": \"pd\",\n  \"rows\": 9,\n  \"fields\": [\n    {\n      \"column\": \"SVD\",\n      \"properties\": {\n        \"dtype\": \"number\",\n        \"std\": 0.013526259393101784,\n        \"min\": 0.0013661025244442553,\n        \"max\": 0.03976042289692588,\n        \"num_unique_values\": 8,\n        \"samples\": [\n          0.0372719374456994,\n          0.026676835172506366,\n          0.03840139009556907\n        ],\n        \"semantic_type\": \"\",\n        \"description\": \"\"\n      }\n    },\n    {\n      \"column\": \"BPR\",\n      \"properties\": {\n        \"dtype\": \"number\",\n        \"std\": 0.03857351586991777,\n        \"min\": 0.005203208568791344,\n        \"max\": 0.12006950477845352,\n        \"num_unique_values\": 8,\n        \"samples\": [\n          0.09652476107732406,\n          0.07439856604680811,\n          0.12006950477845352\n        ],\n        \"semantic_type\": \"\",\n        \"description\": \"\"\n      }\n    },\n    {\n      \"column\": \"Mpop\",\n      \"properties\": {\n        \"dtype\": \"number\",\n        \"std\": 0.038083513618624165,\n        \"min\": 0.0051385516068248715,\n        \"max\": 0.11815812337098175,\n        \"num_unique_values\": 8,\n        \"samples\": [\n          0.09562119895742834,\n          0.07469567678197779,\n          0.11815812337098175\n        ],\n        \"semantic_type\": \"\",\n        \"description\": \"\"\n      }\n    }\n  ]\n}",
       "type": "dataframe"
      },
      "text/html": [
       "\n",
       "  <div id=\"df-147a7235-5282-46af-9c9a-a69265b0d594\" class=\"colab-df-container\">\n",
       "    <div>\n",
       "<style scoped>\n",
       "    .dataframe tbody tr th:only-of-type {\n",
       "        vertical-align: middle;\n",
       "    }\n",
       "\n",
       "    .dataframe tbody tr th {\n",
       "        vertical-align: top;\n",
       "    }\n",
       "\n",
       "    .dataframe thead th {\n",
       "        text-align: right;\n",
       "    }\n",
       "</style>\n",
       "<table border=\"1\" class=\"dataframe\">\n",
       "  <thead>\n",
       "    <tr style=\"text-align: right;\">\n",
       "      <th></th>\n",
       "      <th>SVD</th>\n",
       "      <th>BPR</th>\n",
       "      <th>Mpop</th>\n",
       "    </tr>\n",
       "  </thead>\n",
       "  <tbody>\n",
       "    <tr>\n",
       "      <th>Precision@1</th>\n",
       "      <td>0.038401</td>\n",
       "      <td>0.120070</td>\n",
       "      <td>0.118158</td>\n",
       "    </tr>\n",
       "    <tr>\n",
       "      <th>Precision@10</th>\n",
       "      <td>0.037272</td>\n",
       "      <td>0.096525</td>\n",
       "      <td>0.095621</td>\n",
       "    </tr>\n",
       "    <tr>\n",
       "      <th>Precision@20</th>\n",
       "      <td>0.033745</td>\n",
       "      <td>0.087507</td>\n",
       "      <td>0.087359</td>\n",
       "    </tr>\n",
       "    <tr>\n",
       "      <th>Recall@1</th>\n",
       "      <td>0.001366</td>\n",
       "      <td>0.005203</td>\n",
       "      <td>0.005139</td>\n",
       "    </tr>\n",
       "    <tr>\n",
       "      <th>Recall@10</th>\n",
       "      <td>0.014402</td>\n",
       "      <td>0.039981</td>\n",
       "      <td>0.039690</td>\n",
       "    </tr>\n",
       "    <tr>\n",
       "      <th>Recall@20</th>\n",
       "      <td>0.026677</td>\n",
       "      <td>0.074399</td>\n",
       "      <td>0.074696</td>\n",
       "    </tr>\n",
       "    <tr>\n",
       "      <th>NDCG@1</th>\n",
       "      <td>0.038401</td>\n",
       "      <td>0.120070</td>\n",
       "      <td>0.118158</td>\n",
       "    </tr>\n",
       "    <tr>\n",
       "      <th>NDCG@10</th>\n",
       "      <td>0.039282</td>\n",
       "      <td>0.104220</td>\n",
       "      <td>0.103495</td>\n",
       "    </tr>\n",
       "    <tr>\n",
       "      <th>NDCG@20</th>\n",
       "      <td>0.039760</td>\n",
       "      <td>0.106022</td>\n",
       "      <td>0.105920</td>\n",
       "    </tr>\n",
       "  </tbody>\n",
       "</table>\n",
       "</div>\n",
       "    <div class=\"colab-df-buttons\">\n",
       "\n",
       "  <div class=\"colab-df-container\">\n",
       "    <button class=\"colab-df-convert\" onclick=\"convertToInteractive('df-147a7235-5282-46af-9c9a-a69265b0d594')\"\n",
       "            title=\"Convert this dataframe to an interactive table.\"\n",
       "            style=\"display:none;\">\n",
       "\n",
       "  <svg xmlns=\"http://www.w3.org/2000/svg\" height=\"24px\" viewBox=\"0 -960 960 960\">\n",
       "    <path d=\"M120-120v-720h720v720H120Zm60-500h600v-160H180v160Zm220 220h160v-160H400v160Zm0 220h160v-160H400v160ZM180-400h160v-160H180v160Zm440 0h160v-160H620v160ZM180-180h160v-160H180v160Zm440 0h160v-160H620v160Z\"/>\n",
       "  </svg>\n",
       "    </button>\n",
       "\n",
       "  <style>\n",
       "    .colab-df-container {\n",
       "      display:flex;\n",
       "      gap: 12px;\n",
       "    }\n",
       "\n",
       "    .colab-df-convert {\n",
       "      background-color: #E8F0FE;\n",
       "      border: none;\n",
       "      border-radius: 50%;\n",
       "      cursor: pointer;\n",
       "      display: none;\n",
       "      fill: #1967D2;\n",
       "      height: 32px;\n",
       "      padding: 0 0 0 0;\n",
       "      width: 32px;\n",
       "    }\n",
       "\n",
       "    .colab-df-convert:hover {\n",
       "      background-color: #E2EBFA;\n",
       "      box-shadow: 0px 1px 2px rgba(60, 64, 67, 0.3), 0px 1px 3px 1px rgba(60, 64, 67, 0.15);\n",
       "      fill: #174EA6;\n",
       "    }\n",
       "\n",
       "    .colab-df-buttons div {\n",
       "      margin-bottom: 4px;\n",
       "    }\n",
       "\n",
       "    [theme=dark] .colab-df-convert {\n",
       "      background-color: #3B4455;\n",
       "      fill: #D2E3FC;\n",
       "    }\n",
       "\n",
       "    [theme=dark] .colab-df-convert:hover {\n",
       "      background-color: #434B5C;\n",
       "      box-shadow: 0px 1px 3px 1px rgba(0, 0, 0, 0.15);\n",
       "      filter: drop-shadow(0px 1px 2px rgba(0, 0, 0, 0.3));\n",
       "      fill: #FFFFFF;\n",
       "    }\n",
       "  </style>\n",
       "\n",
       "    <script>\n",
       "      const buttonEl =\n",
       "        document.querySelector('#df-147a7235-5282-46af-9c9a-a69265b0d594 button.colab-df-convert');\n",
       "      buttonEl.style.display =\n",
       "        google.colab.kernel.accessAllowed ? 'block' : 'none';\n",
       "\n",
       "      async function convertToInteractive(key) {\n",
       "        const element = document.querySelector('#df-147a7235-5282-46af-9c9a-a69265b0d594');\n",
       "        const dataTable =\n",
       "          await google.colab.kernel.invokeFunction('convertToInteractive',\n",
       "                                                    [key], {});\n",
       "        if (!dataTable) return;\n",
       "\n",
       "        const docLinkHtml = 'Like what you see? Visit the ' +\n",
       "          '<a target=\"_blank\" href=https://colab.research.google.com/notebooks/data_table.ipynb>data table notebook</a>'\n",
       "          + ' to learn more about interactive tables.';\n",
       "        element.innerHTML = '';\n",
       "        dataTable['output_type'] = 'display_data';\n",
       "        await google.colab.output.renderOutput(dataTable, element);\n",
       "        const docLink = document.createElement('div');\n",
       "        docLink.innerHTML = docLinkHtml;\n",
       "        element.appendChild(docLink);\n",
       "      }\n",
       "    </script>\n",
       "  </div>\n",
       "\n",
       "\n",
       "<div id=\"df-84c6742d-7643-4500-9e19-1af7e858e98d\">\n",
       "  <button class=\"colab-df-quickchart\" onclick=\"quickchart('df-84c6742d-7643-4500-9e19-1af7e858e98d')\"\n",
       "            title=\"Suggest charts\"\n",
       "            style=\"display:none;\">\n",
       "\n",
       "<svg xmlns=\"http://www.w3.org/2000/svg\" height=\"24px\"viewBox=\"0 0 24 24\"\n",
       "     width=\"24px\">\n",
       "    <g>\n",
       "        <path d=\"M19 3H5c-1.1 0-2 .9-2 2v14c0 1.1.9 2 2 2h14c1.1 0 2-.9 2-2V5c0-1.1-.9-2-2-2zM9 17H7v-7h2v7zm4 0h-2V7h2v10zm4 0h-2v-4h2v4z\"/>\n",
       "    </g>\n",
       "</svg>\n",
       "  </button>\n",
       "\n",
       "<style>\n",
       "  .colab-df-quickchart {\n",
       "      --bg-color: #E8F0FE;\n",
       "      --fill-color: #1967D2;\n",
       "      --hover-bg-color: #E2EBFA;\n",
       "      --hover-fill-color: #174EA6;\n",
       "      --disabled-fill-color: #AAA;\n",
       "      --disabled-bg-color: #DDD;\n",
       "  }\n",
       "\n",
       "  [theme=dark] .colab-df-quickchart {\n",
       "      --bg-color: #3B4455;\n",
       "      --fill-color: #D2E3FC;\n",
       "      --hover-bg-color: #434B5C;\n",
       "      --hover-fill-color: #FFFFFF;\n",
       "      --disabled-bg-color: #3B4455;\n",
       "      --disabled-fill-color: #666;\n",
       "  }\n",
       "\n",
       "  .colab-df-quickchart {\n",
       "    background-color: var(--bg-color);\n",
       "    border: none;\n",
       "    border-radius: 50%;\n",
       "    cursor: pointer;\n",
       "    display: none;\n",
       "    fill: var(--fill-color);\n",
       "    height: 32px;\n",
       "    padding: 0;\n",
       "    width: 32px;\n",
       "  }\n",
       "\n",
       "  .colab-df-quickchart:hover {\n",
       "    background-color: var(--hover-bg-color);\n",
       "    box-shadow: 0 1px 2px rgba(60, 64, 67, 0.3), 0 1px 3px 1px rgba(60, 64, 67, 0.15);\n",
       "    fill: var(--button-hover-fill-color);\n",
       "  }\n",
       "\n",
       "  .colab-df-quickchart-complete:disabled,\n",
       "  .colab-df-quickchart-complete:disabled:hover {\n",
       "    background-color: var(--disabled-bg-color);\n",
       "    fill: var(--disabled-fill-color);\n",
       "    box-shadow: none;\n",
       "  }\n",
       "\n",
       "  .colab-df-spinner {\n",
       "    border: 2px solid var(--fill-color);\n",
       "    border-color: transparent;\n",
       "    border-bottom-color: var(--fill-color);\n",
       "    animation:\n",
       "      spin 1s steps(1) infinite;\n",
       "  }\n",
       "\n",
       "  @keyframes spin {\n",
       "    0% {\n",
       "      border-color: transparent;\n",
       "      border-bottom-color: var(--fill-color);\n",
       "      border-left-color: var(--fill-color);\n",
       "    }\n",
       "    20% {\n",
       "      border-color: transparent;\n",
       "      border-left-color: var(--fill-color);\n",
       "      border-top-color: var(--fill-color);\n",
       "    }\n",
       "    30% {\n",
       "      border-color: transparent;\n",
       "      border-left-color: var(--fill-color);\n",
       "      border-top-color: var(--fill-color);\n",
       "      border-right-color: var(--fill-color);\n",
       "    }\n",
       "    40% {\n",
       "      border-color: transparent;\n",
       "      border-right-color: var(--fill-color);\n",
       "      border-top-color: var(--fill-color);\n",
       "    }\n",
       "    60% {\n",
       "      border-color: transparent;\n",
       "      border-right-color: var(--fill-color);\n",
       "    }\n",
       "    80% {\n",
       "      border-color: transparent;\n",
       "      border-right-color: var(--fill-color);\n",
       "      border-bottom-color: var(--fill-color);\n",
       "    }\n",
       "    90% {\n",
       "      border-color: transparent;\n",
       "      border-bottom-color: var(--fill-color);\n",
       "    }\n",
       "  }\n",
       "</style>\n",
       "\n",
       "  <script>\n",
       "    async function quickchart(key) {\n",
       "      const quickchartButtonEl =\n",
       "        document.querySelector('#' + key + ' button');\n",
       "      quickchartButtonEl.disabled = true;  // To prevent multiple clicks.\n",
       "      quickchartButtonEl.classList.add('colab-df-spinner');\n",
       "      try {\n",
       "        const charts = await google.colab.kernel.invokeFunction(\n",
       "            'suggestCharts', [key], {});\n",
       "      } catch (error) {\n",
       "        console.error('Error during call to suggestCharts:', error);\n",
       "      }\n",
       "      quickchartButtonEl.classList.remove('colab-df-spinner');\n",
       "      quickchartButtonEl.classList.add('colab-df-quickchart-complete');\n",
       "    }\n",
       "    (() => {\n",
       "      let quickchartButtonEl =\n",
       "        document.querySelector('#df-84c6742d-7643-4500-9e19-1af7e858e98d button');\n",
       "      quickchartButtonEl.style.display =\n",
       "        google.colab.kernel.accessAllowed ? 'block' : 'none';\n",
       "    })();\n",
       "  </script>\n",
       "</div>\n",
       "\n",
       "    </div>\n",
       "  </div>\n"
      ],
      "text/plain": [
       "                   SVD       BPR      Mpop\n",
       "Precision@1   0.038401  0.120070  0.118158\n",
       "Precision@10  0.037272  0.096525  0.095621\n",
       "Precision@20  0.033745  0.087507  0.087359\n",
       "Recall@1      0.001366  0.005203  0.005139\n",
       "Recall@10     0.014402  0.039981  0.039690\n",
       "Recall@20     0.026677  0.074399  0.074696\n",
       "NDCG@1        0.038401  0.120070  0.118158\n",
       "NDCG@10       0.039282  0.104220  0.103495\n",
       "NDCG@20       0.039760  0.106022  0.105920"
      ]
     },
     "execution_count": 23,
     "metadata": {},
     "output_type": "execute_result"
    }
   ],
   "source": [
    "pd.DataFrame({\"SVD\":ranking_metrics_svd, \"BPR\":ranking_metrics_bpr, \"Mpop\": ranking_metrics_mpop})"
   ]
  },
  {
   "cell_type": "markdown",
   "metadata": {
    "id": "0bcOGJljyRw9"
   },
   "source": [
    "## Evaluation using Ranx"
   ]
  },
  {
   "cell_type": "code",
   "execution_count": null,
   "metadata": {
    "id": "g7pj8kINezI0"
   },
   "outputs": [],
   "source": [
    "max_item = all_predictions_mpop['prediction'].max()"
   ]
  },
  {
   "cell_type": "code",
   "execution_count": null,
   "metadata": {
    "id": "TTz-t5Hcbl6-"
   },
   "outputs": [],
   "source": [
    "all_predictions_mpop['prediction'] = all_predictions_mpop['prediction']/max_item"
   ]
  },
  {
   "cell_type": "code",
   "execution_count": null,
   "metadata": {
    "id": "llNFACnfNI8C"
   },
   "outputs": [],
   "source": [
    "test_data['user_id'] = test_data['user_id'].astype(str)\n",
    "test_data['movie_id'] = test_data['movie_id'].astype(str)\n",
    "\n",
    "all_predictions_svd['user_id'] = all_predictions_svd['user_id'].astype(str)\n",
    "all_predictions_svd['movie_id'] = all_predictions_svd['movie_id'].astype(str)\n",
    "\n",
    "all_predictions_bpr['user_id'] = all_predictions_bpr['user_id'].astype(str)\n",
    "all_predictions_bpr['movie_id'] = all_predictions_bpr['movie_id'].astype(str)\n",
    "\n",
    "all_predictions_mpop['user_id'] = all_predictions_mpop['user_id'].astype(str)\n",
    "all_predictions_mpop['movie_id'] = all_predictions_mpop['movie_id'].astype(str)"
   ]
  },
  {
   "cell_type": "code",
   "execution_count": null,
   "metadata": {
    "id": "nGS8YQUyMC1h"
   },
   "outputs": [],
   "source": [
    "qrels = Qrels.from_df(\n",
    "    df=test_data,\n",
    "    q_id_col=\"user_id\",\n",
    "    doc_id_col=\"movie_id\",\n",
    "    score_col=\"rating\",\n",
    ")\n",
    "\n",
    "run_svd = Run.from_df(\n",
    "    df=all_predictions_svd,\n",
    "    q_id_col=\"user_id\",\n",
    "    doc_id_col=\"movie_id\",\n",
    "    score_col=\"prediction\",\n",
    ")\n",
    "\n",
    "run_bpr = Run.from_df(\n",
    "    df=all_predictions_bpr,\n",
    "    q_id_col=\"user_id\",\n",
    "    doc_id_col=\"movie_id\",\n",
    "    score_col=\"prediction\",\n",
    ")\n",
    "\n",
    "run_mpop = Run.from_df(\n",
    "    df=all_predictions_mpop,\n",
    "    q_id_col=\"user_id\",\n",
    "    doc_id_col=\"movie_id\",\n",
    "    score_col=\"prediction\",\n",
    ")"
   ]
  },
  {
   "cell_type": "code",
   "execution_count": null,
   "metadata": {
    "colab": {
     "base_uri": "https://localhost:8080/"
    },
    "executionInfo": {
     "elapsed": 20873,
     "status": "ok",
     "timestamp": 1745057328359,
     "user": {
      "displayName": "Zaa Zii",
      "userId": "04955836007482077944"
     },
     "user_tz": -420
    },
    "id": "5SkJFq6JOTdX",
    "outputId": "c75877f0-8248-47b8-d562-a172e227d3b4"
   },
   "outputs": [
    {
     "name": "stderr",
     "output_type": "stream",
     "text": [
      "/usr/local/lib/python3.11/dist-packages/ranx/metrics/reciprocal_rank.py:29: NumbaTypeSafetyWarning: unsafe cast from uint64 to int64. Precision may be lost.\n",
      "  scores[i] = _reciprocal_rank(qrels[i], run[i], k, rel_lvl)\n"
     ]
    }
   ],
   "source": [
    "rank_all_df = pd.DataFrame({'SVD': evaluate(qrels, run_svd, [\"mrr\", \"ndcg@10\", \"recall@10\", \"precision@10\", \"hit_rate@10\"]),\n",
    "                            'BPR': evaluate(qrels, run_bpr, [\"mrr\", \"ndcg@10\", \"recall@10\", \"precision@10\", \"hit_rate@10\"]),\n",
    "                            'Mpop': evaluate(qrels, run_mpop, [\"mrr\", \"ndcg@10\", \"recall@10\", \"precision@10\", \"hit_rate@10\"])})"
   ]
  },
  {
   "cell_type": "code",
   "execution_count": null,
   "metadata": {
    "colab": {
     "base_uri": "https://localhost:8080/",
     "height": 206
    },
    "executionInfo": {
     "elapsed": 54,
     "status": "ok",
     "timestamp": 1745057330901,
     "user": {
      "displayName": "Zaa Zii",
      "userId": "04955836007482077944"
     },
     "user_tz": -420
    },
    "id": "sCFHusHXE6zn",
    "outputId": "75624333-c2bd-47cd-ef67-be15e6bad2db"
   },
   "outputs": [
    {
     "data": {
      "application/vnd.google.colaboratory.intrinsic+json": {
       "summary": "{\n  \"name\": \"rank_all_df\",\n  \"rows\": 5,\n  \"fields\": [\n    {\n      \"column\": \"SVD\",\n      \"properties\": {\n        \"dtype\": \"number\",\n        \"std\": 0.0879201212768778,\n        \"min\": 0.014163407016568279,\n        \"max\": 0.22988705473501303,\n        \"num_unique_values\": 5,\n        \"samples\": [\n          0.036264937511155504,\n          0.22988705473501303,\n          0.014163407016568279\n        ],\n        \"semantic_type\": \"\",\n        \"description\": \"\"\n      }\n    },\n    {\n      \"column\": \"BPR\",\n      \"properties\": {\n        \"dtype\": \"number\",\n        \"std\": 0.1628742747305559,\n        \"min\": 0.03998111719653462,\n        \"max\": 0.44517810599478713,\n        \"num_unique_values\": 5,\n        \"samples\": [\n          0.09495507963089778,\n          0.44517810599478713,\n          0.03998111719653462\n        ],\n        \"semantic_type\": \"\",\n        \"description\": \"\"\n      }\n    },\n    {\n      \"column\": \"Mpop\",\n      \"properties\": {\n        \"dtype\": \"number\",\n        \"std\": 0.16188953206298806,\n        \"min\": 0.039710852968503074,\n        \"max\": 0.4422241529105126,\n        \"num_unique_values\": 5,\n        \"samples\": [\n          0.09432836078224371,\n          0.4422241529105126,\n          0.039710852968503074\n        ],\n        \"semantic_type\": \"\",\n        \"description\": \"\"\n      }\n    }\n  ]\n}",
       "type": "dataframe",
       "variable_name": "rank_all_df"
      },
      "text/html": [
       "\n",
       "  <div id=\"df-574bc429-b7fc-4bd0-85a8-82f3699942b3\" class=\"colab-df-container\">\n",
       "    <div>\n",
       "<style scoped>\n",
       "    .dataframe tbody tr th:only-of-type {\n",
       "        vertical-align: middle;\n",
       "    }\n",
       "\n",
       "    .dataframe tbody tr th {\n",
       "        vertical-align: top;\n",
       "    }\n",
       "\n",
       "    .dataframe thead th {\n",
       "        text-align: right;\n",
       "    }\n",
       "</style>\n",
       "<table border=\"1\" class=\"dataframe\">\n",
       "  <thead>\n",
       "    <tr style=\"text-align: right;\">\n",
       "      <th></th>\n",
       "      <th>SVD</th>\n",
       "      <th>BPR</th>\n",
       "      <th>Mpop</th>\n",
       "    </tr>\n",
       "  </thead>\n",
       "  <tbody>\n",
       "    <tr>\n",
       "      <th>mrr</th>\n",
       "      <td>0.099873</td>\n",
       "      <td>0.224575</td>\n",
       "      <td>0.224046</td>\n",
       "    </tr>\n",
       "    <tr>\n",
       "      <th>ndcg@10</th>\n",
       "      <td>0.036265</td>\n",
       "      <td>0.094955</td>\n",
       "      <td>0.094328</td>\n",
       "    </tr>\n",
       "    <tr>\n",
       "      <th>recall@10</th>\n",
       "      <td>0.014163</td>\n",
       "      <td>0.039981</td>\n",
       "      <td>0.039711</td>\n",
       "    </tr>\n",
       "    <tr>\n",
       "      <th>precision@10</th>\n",
       "      <td>0.036768</td>\n",
       "      <td>0.096525</td>\n",
       "      <td>0.095656</td>\n",
       "    </tr>\n",
       "    <tr>\n",
       "      <th>hit_rate@10</th>\n",
       "      <td>0.229887</td>\n",
       "      <td>0.445178</td>\n",
       "      <td>0.442224</td>\n",
       "    </tr>\n",
       "  </tbody>\n",
       "</table>\n",
       "</div>\n",
       "    <div class=\"colab-df-buttons\">\n",
       "\n",
       "  <div class=\"colab-df-container\">\n",
       "    <button class=\"colab-df-convert\" onclick=\"convertToInteractive('df-574bc429-b7fc-4bd0-85a8-82f3699942b3')\"\n",
       "            title=\"Convert this dataframe to an interactive table.\"\n",
       "            style=\"display:none;\">\n",
       "\n",
       "  <svg xmlns=\"http://www.w3.org/2000/svg\" height=\"24px\" viewBox=\"0 -960 960 960\">\n",
       "    <path d=\"M120-120v-720h720v720H120Zm60-500h600v-160H180v160Zm220 220h160v-160H400v160Zm0 220h160v-160H400v160ZM180-400h160v-160H180v160Zm440 0h160v-160H620v160ZM180-180h160v-160H180v160Zm440 0h160v-160H620v160Z\"/>\n",
       "  </svg>\n",
       "    </button>\n",
       "\n",
       "  <style>\n",
       "    .colab-df-container {\n",
       "      display:flex;\n",
       "      gap: 12px;\n",
       "    }\n",
       "\n",
       "    .colab-df-convert {\n",
       "      background-color: #E8F0FE;\n",
       "      border: none;\n",
       "      border-radius: 50%;\n",
       "      cursor: pointer;\n",
       "      display: none;\n",
       "      fill: #1967D2;\n",
       "      height: 32px;\n",
       "      padding: 0 0 0 0;\n",
       "      width: 32px;\n",
       "    }\n",
       "\n",
       "    .colab-df-convert:hover {\n",
       "      background-color: #E2EBFA;\n",
       "      box-shadow: 0px 1px 2px rgba(60, 64, 67, 0.3), 0px 1px 3px 1px rgba(60, 64, 67, 0.15);\n",
       "      fill: #174EA6;\n",
       "    }\n",
       "\n",
       "    .colab-df-buttons div {\n",
       "      margin-bottom: 4px;\n",
       "    }\n",
       "\n",
       "    [theme=dark] .colab-df-convert {\n",
       "      background-color: #3B4455;\n",
       "      fill: #D2E3FC;\n",
       "    }\n",
       "\n",
       "    [theme=dark] .colab-df-convert:hover {\n",
       "      background-color: #434B5C;\n",
       "      box-shadow: 0px 1px 3px 1px rgba(0, 0, 0, 0.15);\n",
       "      filter: drop-shadow(0px 1px 2px rgba(0, 0, 0, 0.3));\n",
       "      fill: #FFFFFF;\n",
       "    }\n",
       "  </style>\n",
       "\n",
       "    <script>\n",
       "      const buttonEl =\n",
       "        document.querySelector('#df-574bc429-b7fc-4bd0-85a8-82f3699942b3 button.colab-df-convert');\n",
       "      buttonEl.style.display =\n",
       "        google.colab.kernel.accessAllowed ? 'block' : 'none';\n",
       "\n",
       "      async function convertToInteractive(key) {\n",
       "        const element = document.querySelector('#df-574bc429-b7fc-4bd0-85a8-82f3699942b3');\n",
       "        const dataTable =\n",
       "          await google.colab.kernel.invokeFunction('convertToInteractive',\n",
       "                                                    [key], {});\n",
       "        if (!dataTable) return;\n",
       "\n",
       "        const docLinkHtml = 'Like what you see? Visit the ' +\n",
       "          '<a target=\"_blank\" href=https://colab.research.google.com/notebooks/data_table.ipynb>data table notebook</a>'\n",
       "          + ' to learn more about interactive tables.';\n",
       "        element.innerHTML = '';\n",
       "        dataTable['output_type'] = 'display_data';\n",
       "        await google.colab.output.renderOutput(dataTable, element);\n",
       "        const docLink = document.createElement('div');\n",
       "        docLink.innerHTML = docLinkHtml;\n",
       "        element.appendChild(docLink);\n",
       "      }\n",
       "    </script>\n",
       "  </div>\n",
       "\n",
       "\n",
       "<div id=\"df-6f716fa0-2ec9-4ca8-b512-04d882ede940\">\n",
       "  <button class=\"colab-df-quickchart\" onclick=\"quickchart('df-6f716fa0-2ec9-4ca8-b512-04d882ede940')\"\n",
       "            title=\"Suggest charts\"\n",
       "            style=\"display:none;\">\n",
       "\n",
       "<svg xmlns=\"http://www.w3.org/2000/svg\" height=\"24px\"viewBox=\"0 0 24 24\"\n",
       "     width=\"24px\">\n",
       "    <g>\n",
       "        <path d=\"M19 3H5c-1.1 0-2 .9-2 2v14c0 1.1.9 2 2 2h14c1.1 0 2-.9 2-2V5c0-1.1-.9-2-2-2zM9 17H7v-7h2v7zm4 0h-2V7h2v10zm4 0h-2v-4h2v4z\"/>\n",
       "    </g>\n",
       "</svg>\n",
       "  </button>\n",
       "\n",
       "<style>\n",
       "  .colab-df-quickchart {\n",
       "      --bg-color: #E8F0FE;\n",
       "      --fill-color: #1967D2;\n",
       "      --hover-bg-color: #E2EBFA;\n",
       "      --hover-fill-color: #174EA6;\n",
       "      --disabled-fill-color: #AAA;\n",
       "      --disabled-bg-color: #DDD;\n",
       "  }\n",
       "\n",
       "  [theme=dark] .colab-df-quickchart {\n",
       "      --bg-color: #3B4455;\n",
       "      --fill-color: #D2E3FC;\n",
       "      --hover-bg-color: #434B5C;\n",
       "      --hover-fill-color: #FFFFFF;\n",
       "      --disabled-bg-color: #3B4455;\n",
       "      --disabled-fill-color: #666;\n",
       "  }\n",
       "\n",
       "  .colab-df-quickchart {\n",
       "    background-color: var(--bg-color);\n",
       "    border: none;\n",
       "    border-radius: 50%;\n",
       "    cursor: pointer;\n",
       "    display: none;\n",
       "    fill: var(--fill-color);\n",
       "    height: 32px;\n",
       "    padding: 0;\n",
       "    width: 32px;\n",
       "  }\n",
       "\n",
       "  .colab-df-quickchart:hover {\n",
       "    background-color: var(--hover-bg-color);\n",
       "    box-shadow: 0 1px 2px rgba(60, 64, 67, 0.3), 0 1px 3px 1px rgba(60, 64, 67, 0.15);\n",
       "    fill: var(--button-hover-fill-color);\n",
       "  }\n",
       "\n",
       "  .colab-df-quickchart-complete:disabled,\n",
       "  .colab-df-quickchart-complete:disabled:hover {\n",
       "    background-color: var(--disabled-bg-color);\n",
       "    fill: var(--disabled-fill-color);\n",
       "    box-shadow: none;\n",
       "  }\n",
       "\n",
       "  .colab-df-spinner {\n",
       "    border: 2px solid var(--fill-color);\n",
       "    border-color: transparent;\n",
       "    border-bottom-color: var(--fill-color);\n",
       "    animation:\n",
       "      spin 1s steps(1) infinite;\n",
       "  }\n",
       "\n",
       "  @keyframes spin {\n",
       "    0% {\n",
       "      border-color: transparent;\n",
       "      border-bottom-color: var(--fill-color);\n",
       "      border-left-color: var(--fill-color);\n",
       "    }\n",
       "    20% {\n",
       "      border-color: transparent;\n",
       "      border-left-color: var(--fill-color);\n",
       "      border-top-color: var(--fill-color);\n",
       "    }\n",
       "    30% {\n",
       "      border-color: transparent;\n",
       "      border-left-color: var(--fill-color);\n",
       "      border-top-color: var(--fill-color);\n",
       "      border-right-color: var(--fill-color);\n",
       "    }\n",
       "    40% {\n",
       "      border-color: transparent;\n",
       "      border-right-color: var(--fill-color);\n",
       "      border-top-color: var(--fill-color);\n",
       "    }\n",
       "    60% {\n",
       "      border-color: transparent;\n",
       "      border-right-color: var(--fill-color);\n",
       "    }\n",
       "    80% {\n",
       "      border-color: transparent;\n",
       "      border-right-color: var(--fill-color);\n",
       "      border-bottom-color: var(--fill-color);\n",
       "    }\n",
       "    90% {\n",
       "      border-color: transparent;\n",
       "      border-bottom-color: var(--fill-color);\n",
       "    }\n",
       "  }\n",
       "</style>\n",
       "\n",
       "  <script>\n",
       "    async function quickchart(key) {\n",
       "      const quickchartButtonEl =\n",
       "        document.querySelector('#' + key + ' button');\n",
       "      quickchartButtonEl.disabled = true;  // To prevent multiple clicks.\n",
       "      quickchartButtonEl.classList.add('colab-df-spinner');\n",
       "      try {\n",
       "        const charts = await google.colab.kernel.invokeFunction(\n",
       "            'suggestCharts', [key], {});\n",
       "      } catch (error) {\n",
       "        console.error('Error during call to suggestCharts:', error);\n",
       "      }\n",
       "      quickchartButtonEl.classList.remove('colab-df-spinner');\n",
       "      quickchartButtonEl.classList.add('colab-df-quickchart-complete');\n",
       "    }\n",
       "    (() => {\n",
       "      let quickchartButtonEl =\n",
       "        document.querySelector('#df-6f716fa0-2ec9-4ca8-b512-04d882ede940 button');\n",
       "      quickchartButtonEl.style.display =\n",
       "        google.colab.kernel.accessAllowed ? 'block' : 'none';\n",
       "    })();\n",
       "  </script>\n",
       "</div>\n",
       "\n",
       "  <div id=\"id_3f08b671-2890-4c31-827e-0dc861c206a0\">\n",
       "    <style>\n",
       "      .colab-df-generate {\n",
       "        background-color: #E8F0FE;\n",
       "        border: none;\n",
       "        border-radius: 50%;\n",
       "        cursor: pointer;\n",
       "        display: none;\n",
       "        fill: #1967D2;\n",
       "        height: 32px;\n",
       "        padding: 0 0 0 0;\n",
       "        width: 32px;\n",
       "      }\n",
       "\n",
       "      .colab-df-generate:hover {\n",
       "        background-color: #E2EBFA;\n",
       "        box-shadow: 0px 1px 2px rgba(60, 64, 67, 0.3), 0px 1px 3px 1px rgba(60, 64, 67, 0.15);\n",
       "        fill: #174EA6;\n",
       "      }\n",
       "\n",
       "      [theme=dark] .colab-df-generate {\n",
       "        background-color: #3B4455;\n",
       "        fill: #D2E3FC;\n",
       "      }\n",
       "\n",
       "      [theme=dark] .colab-df-generate:hover {\n",
       "        background-color: #434B5C;\n",
       "        box-shadow: 0px 1px 3px 1px rgba(0, 0, 0, 0.15);\n",
       "        filter: drop-shadow(0px 1px 2px rgba(0, 0, 0, 0.3));\n",
       "        fill: #FFFFFF;\n",
       "      }\n",
       "    </style>\n",
       "    <button class=\"colab-df-generate\" onclick=\"generateWithVariable('rank_all_df')\"\n",
       "            title=\"Generate code using this dataframe.\"\n",
       "            style=\"display:none;\">\n",
       "\n",
       "  <svg xmlns=\"http://www.w3.org/2000/svg\" height=\"24px\"viewBox=\"0 0 24 24\"\n",
       "       width=\"24px\">\n",
       "    <path d=\"M7,19H8.4L18.45,9,17,7.55,7,17.6ZM5,21V16.75L18.45,3.32a2,2,0,0,1,2.83,0l1.4,1.43a1.91,1.91,0,0,1,.58,1.4,1.91,1.91,0,0,1-.58,1.4L9.25,21ZM18.45,9,17,7.55Zm-12,3A5.31,5.31,0,0,0,4.9,8.1,5.31,5.31,0,0,0,1,6.5,5.31,5.31,0,0,0,4.9,4.9,5.31,5.31,0,0,0,6.5,1,5.31,5.31,0,0,0,8.1,4.9,5.31,5.31,0,0,0,12,6.5,5.46,5.46,0,0,0,6.5,12Z\"/>\n",
       "  </svg>\n",
       "    </button>\n",
       "    <script>\n",
       "      (() => {\n",
       "      const buttonEl =\n",
       "        document.querySelector('#id_3f08b671-2890-4c31-827e-0dc861c206a0 button.colab-df-generate');\n",
       "      buttonEl.style.display =\n",
       "        google.colab.kernel.accessAllowed ? 'block' : 'none';\n",
       "\n",
       "      buttonEl.onclick = () => {\n",
       "        google.colab.notebook.generateWithVariable('rank_all_df');\n",
       "      }\n",
       "      })();\n",
       "    </script>\n",
       "  </div>\n",
       "\n",
       "    </div>\n",
       "  </div>\n"
      ],
      "text/plain": [
       "                   SVD       BPR      Mpop\n",
       "mrr           0.099873  0.224575  0.224046\n",
       "ndcg@10       0.036265  0.094955  0.094328\n",
       "recall@10     0.014163  0.039981  0.039711\n",
       "precision@10  0.036768  0.096525  0.095656\n",
       "hit_rate@10   0.229887  0.445178  0.442224"
      ]
     },
     "execution_count": 21,
     "metadata": {},
     "output_type": "execute_result"
    }
   ],
   "source": [
    "rank_all_df"
   ]
  },
  {
   "cell_type": "code",
   "execution_count": null,
   "metadata": {
    "id": "DLwZr71nTJfo"
   },
   "outputs": [],
   "source": []
  },
  {
   "cell_type": "markdown",
   "metadata": {
    "id": "JZf5ThucUlxe"
   },
   "source": [
    "## Parameters from Hyperparameter Opt"
   ]
  },
  {
   "cell_type": "markdown",
   "metadata": {
    "id": "JYxdPA8FUoy4"
   },
   "source": [
    "### Singular Value Decomposition"
   ]
  },
  {
   "cell_type": "code",
   "execution_count": 12,
   "metadata": {
    "colab": {
     "base_uri": "https://localhost:8080/"
    },
    "executionInfo": {
     "elapsed": 694,
     "status": "ok",
     "timestamp": 1746938765350,
     "user": {
      "displayName": "Zaa Zii",
      "userId": "04955836007482077944"
     },
     "user_tz": -420
    },
    "id": "Wwb-5I99VBZy",
    "outputId": "77fdcc3f-ed99-45a5-8a28-61869b48b04c"
   },
   "outputs": [
    {
     "data": {
      "text/plain": [
       "<surprise.trainset.Trainset at 0x7b848d41f490>"
      ]
     },
     "execution_count": 12,
     "metadata": {},
     "output_type": "execute_result"
    }
   ],
   "source": [
    "# A reader is still needed but only the rating_scale param is required.\n",
    "reader = Reader(rating_scale=(1, 10))\n",
    "\n",
    "# The columns must correspond to user id, item id and ratings (in that order).\n",
    "train_set = Dataset.load_from_df(train_data[[\"user_id\", \"movie_id\", \"rating\"]], reader).build_full_trainset()\n",
    "train_set"
   ]
  },
  {
   "cell_type": "code",
   "execution_count": 13,
   "metadata": {
    "colab": {
     "base_uri": "https://localhost:8080/"
    },
    "executionInfo": {
     "elapsed": 1767,
     "status": "ok",
     "timestamp": 1746938767118,
     "user": {
      "displayName": "Zaa Zii",
      "userId": "04955836007482077944"
     },
     "user_tz": -420
    },
    "id": "3gbMebxTVBZz",
    "outputId": "6d211f0f-326f-44de-8674-7bf838e67c20"
   },
   "outputs": [
    {
     "name": "stdout",
     "output_type": "stream",
     "text": [
      "Took 1.7735709260000476 seconds for training.\n"
     ]
    }
   ],
   "source": [
    "svd = surprise.SVD(random_state=SEED,\n",
    "                         n_epochs=20,\n",
    "                         verbose=False,\n",
    "                         n_factors=20,\n",
    "                         lr_all=0.0073,\n",
    "                         reg_all=0.0016\n",
    "                         )\n",
    "\n",
    "with Timer() as train_time:\n",
    "    svd.fit(train_set)\n",
    "\n",
    "print(f\"Took {train_time.interval} seconds for training.\")"
   ]
  },
  {
   "cell_type": "code",
   "execution_count": 14,
   "metadata": {
    "colab": {
     "base_uri": "https://localhost:8080/",
     "height": 66,
     "referenced_widgets": [
      "d985df58399743a2b8e3d54f6b271a25",
      "c4229a682ab94e5fbbf0188afb329674",
      "270c6e78370646a6a8a363f9c30a0d33",
      "6595418d843349d883aeb58524de23e2",
      "d9934851c16f4b1d85d38d35036829d0",
      "30e5f4eb2d334958bca06734ffcd115f",
      "ff04c7e8fd154b9eaa0b0d8ce2a4eaf3",
      "2bb5a946718e48869633bdc75d7c157e",
      "0b55d484a3d243bb8d886a33447b94a0",
      "082cab20cfda4f68b3c8db9acef50e87",
      "359c038343954bd3a0d1defc2f7a1337"
     ]
    },
    "executionInfo": {
     "elapsed": 148004,
     "status": "ok",
     "timestamp": 1746938915123,
     "user": {
      "displayName": "Zaa Zii",
      "userId": "04955836007482077944"
     },
     "user_tz": -420
    },
    "id": "vEAAoFziVBZz",
    "outputId": "87558d20-f547-45de-c210-14f8aa2095b2"
   },
   "outputs": [
    {
     "data": {
      "application/vnd.jupyter.widget-view+json": {
       "model_id": "d985df58399743a2b8e3d54f6b271a25",
       "version_major": 2,
       "version_minor": 0
      },
      "text/plain": [
       "  0%|          | 0/5755 [00:00<?, ?it/s]"
      ]
     },
     "metadata": {},
     "output_type": "display_data"
    },
    {
     "name": "stdout",
     "output_type": "stream",
     "text": [
      "Took 147.997951166 seconds for prediction.\n"
     ]
    }
   ],
   "source": [
    "with Timer() as test_time:\n",
    "    all_predictions_svd = compute_ranking_predictions(\n",
    "        svd, train_data, usercol=\"user_id\", itemcol=\"movie_id\", predcol=\"prediction\", remove_seen=True\n",
    "    )\n",
    "\n",
    "print(f\"Took {test_time.interval} seconds for prediction.\")"
   ]
  },
  {
   "cell_type": "markdown",
   "metadata": {
    "id": "x80msUyqbM9r"
   },
   "source": [
    "### BPR and Mpop"
   ]
  },
  {
   "cell_type": "code",
   "execution_count": 15,
   "metadata": {
    "colab": {
     "base_uri": "https://localhost:8080/"
    },
    "executionInfo": {
     "elapsed": 1314,
     "status": "ok",
     "timestamp": 1746938916440,
     "user": {
      "displayName": "Zaa Zii",
      "userId": "04955836007482077944"
     },
     "user_tz": -420
    },
    "id": "HcPouMk5bM9r",
    "outputId": "ea326ed2-cb97-4e0d-c21e-606a32f4cb67"
   },
   "outputs": [
    {
     "name": "stdout",
     "output_type": "stream",
     "text": [
      "rating_threshold = 1.0\n",
      "exclude_unknowns = True\n",
      "---\n",
      "Training data:\n",
      "Number of users = 5755\n",
      "Number of items = 3571\n",
      "Number of ratings = 665395\n",
      "Max rating = 5.0\n",
      "Min rating = 3.0\n",
      "Global mean = 4.0\n",
      "---\n",
      "Test data:\n",
      "Number of users = 5755\n",
      "Number of items = 3571\n",
      "Number of ratings = 166276\n",
      "Number of unknown users = 0\n",
      "Number of unknown items = 0\n",
      "---\n",
      "Total users = 5755\n",
      "Total items = 3571\n"
     ]
    }
   ],
   "source": [
    "eval_method = cornac.eval_methods.BaseMethod.from_splits(\n",
    "  train_data=list(train_data[['user_id', 'movie_id', 'rating']].itertuples(index=False)),\n",
    "  test_data=list(test_data[['user_id', 'movie_id', 'rating']].itertuples(index=False)),\n",
    "  exclude_unknowns=True,\n",
    "  verbose=True,\n",
    "  seed=SEED,\n",
    ")"
   ]
  },
  {
   "cell_type": "code",
   "execution_count": 16,
   "metadata": {
    "executionInfo": {
     "elapsed": 6,
     "status": "ok",
     "timestamp": 1746938916452,
     "user": {
      "displayName": "Zaa Zii",
      "userId": "04955836007482077944"
     },
     "user_tz": -420
    },
    "id": "_xcQZYkDbM9r"
   },
   "outputs": [],
   "source": [
    "bpr = cornac.models.BPR(\n",
    "    k=200,\n",
    "    max_iter=70,\n",
    "    learning_rate=0.0869,\n",
    "    lambda_reg=0.0208,\n",
    "    verbose=True,\n",
    "    seed=SEED\n",
    "  )\n",
    "most_pop = cornac.models.MostPop()"
   ]
  },
  {
   "cell_type": "code",
   "execution_count": 17,
   "metadata": {
    "colab": {
     "base_uri": "https://localhost:8080/",
     "height": 84,
     "referenced_widgets": [
      "decb9aa0713545af9037e382621763b7",
      "f5054d4564914814a3df33d0f06ea484",
      "71b0c8ed00e44860bd60dfdd0f6f8913",
      "d931b6a205fe4b629be0fbfbd2744d4d",
      "9ea709498a6a48b6a3f8537b31de3d3a",
      "2a0d9bbbbc164f398594b136ac119d04",
      "6ba700485b4c46e4ab44f683ca0c9790",
      "82e0a5d1165249d7a6da411b088f362e",
      "8025fc9657134008af8abf43aba58730",
      "3caa1ff692004ebb8d1766243e00b4ba",
      "99c462d84e5d48149fe6f808c54a7dc9"
     ]
    },
    "executionInfo": {
     "elapsed": 23451,
     "status": "ok",
     "timestamp": 1746938939904,
     "user": {
      "displayName": "Zaa Zii",
      "userId": "04955836007482077944"
     },
     "user_tz": -420
    },
    "id": "MKJ0v9iIbM9r",
    "outputId": "c5774676-1c2b-4a6c-890a-0a87b3ca62b7"
   },
   "outputs": [
    {
     "data": {
      "application/vnd.jupyter.widget-view+json": {
       "model_id": "decb9aa0713545af9037e382621763b7",
       "version_major": 2,
       "version_minor": 0
      },
      "text/plain": [
       "  0%|          | 0/70 [00:00<?, ?it/s]"
      ]
     },
     "metadata": {},
     "output_type": "display_data"
    },
    {
     "name": "stdout",
     "output_type": "stream",
     "text": [
      "Optimization finished!\n",
      "Took 23.4470 seconds for training.\n"
     ]
    }
   ],
   "source": [
    "with Timer() as t:\n",
    "    bpr.fit(eval_method.train_set)\n",
    "print(\"Took {} seconds for training.\".format(t))"
   ]
  },
  {
   "cell_type": "code",
   "execution_count": 18,
   "metadata": {
    "colab": {
     "base_uri": "https://localhost:8080/"
    },
    "executionInfo": {
     "elapsed": 9,
     "status": "ok",
     "timestamp": 1746938939920,
     "user": {
      "displayName": "Zaa Zii",
      "userId": "04955836007482077944"
     },
     "user_tz": -420
    },
    "id": "FsgxmUihbM9s",
    "outputId": "2c2f2646-a126-41c0-d255-d150456f0fb3"
   },
   "outputs": [
    {
     "name": "stdout",
     "output_type": "stream",
     "text": [
      "Took 0.0103 seconds for training.\n"
     ]
    }
   ],
   "source": [
    "with Timer() as t:\n",
    "    most_pop.fit(eval_method.train_set)\n",
    "print(\"Took {} seconds for training.\".format(t))"
   ]
  },
  {
   "cell_type": "code",
   "execution_count": 19,
   "metadata": {
    "colab": {
     "base_uri": "https://localhost:8080/"
    },
    "executionInfo": {
     "elapsed": 18646,
     "status": "ok",
     "timestamp": 1746938958569,
     "user": {
      "displayName": "Zaa Zii",
      "userId": "04955836007482077944"
     },
     "user_tz": -420
    },
    "id": "QtZ7-iORbM9s",
    "outputId": "afecec57-242f-429b-a1ed-b58036c14cd9"
   },
   "outputs": [
    {
     "name": "stdout",
     "output_type": "stream",
     "text": [
      "Took 18.5722 seconds for prediction.\n"
     ]
    }
   ],
   "source": [
    "with Timer() as t:\n",
    "    all_predictions_bpr = predict_ranking(bpr, train_data, usercol='user_id', itemcol='movie_id', remove_seen=True)\n",
    "print(\"Took {} seconds for prediction.\".format(t))"
   ]
  },
  {
   "cell_type": "code",
   "execution_count": 20,
   "metadata": {
    "colab": {
     "base_uri": "https://localhost:8080/"
    },
    "executionInfo": {
     "elapsed": 19568,
     "status": "ok",
     "timestamp": 1746938978136,
     "user": {
      "displayName": "Zaa Zii",
      "userId": "04955836007482077944"
     },
     "user_tz": -420
    },
    "id": "PuaHQVEQbM9s",
    "outputId": "e366612f-3619-40d4-ec52-cbca66768822"
   },
   "outputs": [
    {
     "name": "stdout",
     "output_type": "stream",
     "text": [
      "Took 19.5534 seconds for prediction.\n"
     ]
    }
   ],
   "source": [
    "with Timer() as t:\n",
    "    all_predictions_mpop = predict_ranking(most_pop, train_data, usercol='user_id', itemcol='movie_id', remove_seen=True)\n",
    "print(\"Took {} seconds for prediction.\".format(t))"
   ]
  },
  {
   "cell_type": "code",
   "execution_count": 22,
   "metadata": {
    "executionInfo": {
     "elapsed": 25,
     "status": "ok",
     "timestamp": 1746939091842,
     "user": {
      "displayName": "Zaa Zii",
      "userId": "04955836007482077944"
     },
     "user_tz": -420
    },
    "id": "3wNES1Poqj4l"
   },
   "outputs": [],
   "source": [
    "import pickle"
   ]
  },
  {
   "cell_type": "code",
   "execution_count": 26,
   "metadata": {
    "executionInfo": {
     "elapsed": 6090,
     "status": "ok",
     "timestamp": 1746939168612,
     "user": {
      "displayName": "Zaa Zii",
      "userId": "04955836007482077944"
     },
     "user_tz": -420
    },
    "id": "ehM4Y4JBoVC3"
   },
   "outputs": [],
   "source": [
    "PREDICTION_PATH = '/content/drive/MyDrive/Final Project/Codes/animelist-goodbooks-recommendation/ml-1m/predictions'\n",
    "pickle.dump(all_predictions_svd, open(f'{PREDICTION_PATH}/predictions_svd_opt.pkl', 'wb'))\n",
    "pickle.dump(all_predictions_mpop, open(f'{PREDICTION_PATH}/predictions_pop_opt.pkl', 'wb'))\n",
    "pickle.dump(all_predictions_bpr, open(f'{PREDICTION_PATH}/predictions_bpr_opt.pkl', 'wb'))"
   ]
  },
  {
   "cell_type": "markdown",
   "metadata": {
    "id": "ytCkl2JCbV_4"
   },
   "source": [
    "### Evaluation"
   ]
  },
  {
   "cell_type": "code",
   "execution_count": 27,
   "metadata": {
    "executionInfo": {
     "elapsed": 31,
     "status": "ok",
     "timestamp": 1746939171324,
     "user": {
      "displayName": "Zaa Zii",
      "userId": "04955836007482077944"
     },
     "user_tz": -420
    },
    "id": "c_SMFWmKbyh4"
   },
   "outputs": [],
   "source": [
    "max_item = all_predictions_mpop['prediction'].max()"
   ]
  },
  {
   "cell_type": "code",
   "execution_count": 28,
   "metadata": {
    "executionInfo": {
     "elapsed": 40,
     "status": "ok",
     "timestamp": 1746939171597,
     "user": {
      "displayName": "Zaa Zii",
      "userId": "04955836007482077944"
     },
     "user_tz": -420
    },
    "id": "fsnFYubibyh5"
   },
   "outputs": [],
   "source": [
    "all_predictions_mpop['prediction'] = all_predictions_mpop['prediction']/max_item"
   ]
  },
  {
   "cell_type": "code",
   "execution_count": 29,
   "metadata": {
    "executionInfo": {
     "elapsed": 23332,
     "status": "ok",
     "timestamp": 1746939196178,
     "user": {
      "displayName": "Zaa Zii",
      "userId": "04955836007482077944"
     },
     "user_tz": -420
    },
    "id": "0ifQYRFGbyh5"
   },
   "outputs": [],
   "source": [
    "test_data['user_id'] = test_data['user_id'].astype(str)\n",
    "test_data['movie_id'] = test_data['movie_id'].astype(str)\n",
    "\n",
    "all_predictions_svd['user_id'] = all_predictions_svd['user_id'].astype(str)\n",
    "all_predictions_svd['movie_id'] = all_predictions_svd['movie_id'].astype(str)\n",
    "\n",
    "all_predictions_bpr['user_id'] = all_predictions_bpr['user_id'].astype(str)\n",
    "all_predictions_bpr['movie_id'] = all_predictions_bpr['movie_id'].astype(str)\n",
    "\n",
    "all_predictions_mpop['user_id'] = all_predictions_mpop['user_id'].astype(str)\n",
    "all_predictions_mpop['movie_id'] = all_predictions_mpop['movie_id'].astype(str)"
   ]
  },
  {
   "cell_type": "code",
   "execution_count": 30,
   "metadata": {
    "executionInfo": {
     "elapsed": 99899,
     "status": "ok",
     "timestamp": 1746939296093,
     "user": {
      "displayName": "Zaa Zii",
      "userId": "04955836007482077944"
     },
     "user_tz": -420
    },
    "id": "Se5Bb5Uxbyh5"
   },
   "outputs": [],
   "source": [
    "qrels = Qrels.from_df(\n",
    "    df=test_data,\n",
    "    q_id_col=\"user_id\",\n",
    "    doc_id_col=\"movie_id\",\n",
    "    score_col=\"rating\",\n",
    ")\n",
    "\n",
    "run_svd = Run.from_df(\n",
    "    df=all_predictions_svd,\n",
    "    q_id_col=\"user_id\",\n",
    "    doc_id_col=\"movie_id\",\n",
    "    score_col=\"prediction\",\n",
    ")\n",
    "\n",
    "run_bpr = Run.from_df(\n",
    "    df=all_predictions_bpr,\n",
    "    q_id_col=\"user_id\",\n",
    "    doc_id_col=\"movie_id\",\n",
    "    score_col=\"prediction\",\n",
    ")\n",
    "\n",
    "run_mpop = Run.from_df(\n",
    "    df=all_predictions_mpop,\n",
    "    q_id_col=\"user_id\",\n",
    "    doc_id_col=\"movie_id\",\n",
    "    score_col=\"prediction\",\n",
    ")"
   ]
  },
  {
   "cell_type": "code",
   "execution_count": 31,
   "metadata": {
    "colab": {
     "base_uri": "https://localhost:8080/"
    },
    "executionInfo": {
     "elapsed": 21919,
     "status": "ok",
     "timestamp": 1746939318016,
     "user": {
      "displayName": "Zaa Zii",
      "userId": "04955836007482077944"
     },
     "user_tz": -420
    },
    "id": "aViiRe1ubyh5",
    "outputId": "9b3a595b-22cb-4ac4-9b3e-10dd70c96f01"
   },
   "outputs": [
    {
     "name": "stderr",
     "output_type": "stream",
     "text": [
      "/usr/local/lib/python3.11/dist-packages/ranx/metrics/reciprocal_rank.py:29: NumbaTypeSafetyWarning: unsafe cast from uint64 to int64. Precision may be lost.\n",
      "  scores[i] = _reciprocal_rank(qrels[i], run[i], k, rel_lvl)\n"
     ]
    }
   ],
   "source": [
    "rank_all_df = pd.DataFrame({'SVD': evaluate(qrels, run_svd, [\"mrr\", \"ndcg@10\", \"recall@10\", \"precision@10\", \"hit_rate@10\"]),\n",
    "                            'BPR': evaluate(qrels, run_bpr, [\"mrr\", \"ndcg@10\", \"recall@10\", \"precision@10\", \"hit_rate@10\"]),\n",
    "                            'Mpop': evaluate(qrels, run_mpop, [\"mrr\", \"ndcg@10\", \"recall@10\", \"precision@10\", \"hit_rate@10\"])})"
   ]
  },
  {
   "cell_type": "code",
   "execution_count": 32,
   "metadata": {
    "colab": {
     "base_uri": "https://localhost:8080/",
     "height": 206
    },
    "executionInfo": {
     "elapsed": 51,
     "status": "ok",
     "timestamp": 1746939318074,
     "user": {
      "displayName": "Zaa Zii",
      "userId": "04955836007482077944"
     },
     "user_tz": -420
    },
    "id": "T2_4PK89X2jP",
    "outputId": "a2a81681-df22-43c8-b568-c22f26fa620f"
   },
   "outputs": [
    {
     "data": {
      "application/vnd.google.colaboratory.intrinsic+json": {
       "summary": "{\n  \"name\": \"rank_all_df\",\n  \"rows\": 5,\n  \"fields\": [\n    {\n      \"column\": \"SVD\",\n      \"properties\": {\n        \"dtype\": \"number\",\n        \"std\": 0.11642970801662601,\n        \"min\": 0.02108502952899355,\n        \"max\": 0.30738488271068637,\n        \"num_unique_values\": 5,\n        \"samples\": [\n          0.05795483471543994,\n          0.30738488271068637,\n          0.02108502952899355\n        ],\n        \"semantic_type\": \"\",\n        \"description\": \"\"\n      }\n    },\n    {\n      \"column\": \"BPR\",\n      \"properties\": {\n        \"dtype\": \"number\",\n        \"std\": 0.20324532239066254,\n        \"min\": 0.06194908232163527,\n        \"max\": 0.5602085143353606,\n        \"num_unique_values\": 5,\n        \"samples\": [\n          0.11451238088822374,\n          0.5602085143353606,\n          0.06194908232163527\n        ],\n        \"semantic_type\": \"\",\n        \"description\": \"\"\n      }\n    },\n    {\n      \"column\": \"Mpop\",\n      \"properties\": {\n        \"dtype\": \"number\",\n        \"std\": 0.16188953206298806,\n        \"min\": 0.039710852968503074,\n        \"max\": 0.4422241529105126,\n        \"num_unique_values\": 5,\n        \"samples\": [\n          0.09432836078224371,\n          0.4422241529105126,\n          0.039710852968503074\n        ],\n        \"semantic_type\": \"\",\n        \"description\": \"\"\n      }\n    }\n  ]\n}",
       "type": "dataframe",
       "variable_name": "rank_all_df"
      },
      "text/html": [
       "\n",
       "  <div id=\"df-61aa5a7a-7470-4ce4-867b-3d4ea1c0fd47\" class=\"colab-df-container\">\n",
       "    <div>\n",
       "<style scoped>\n",
       "    .dataframe tbody tr th:only-of-type {\n",
       "        vertical-align: middle;\n",
       "    }\n",
       "\n",
       "    .dataframe tbody tr th {\n",
       "        vertical-align: top;\n",
       "    }\n",
       "\n",
       "    .dataframe thead th {\n",
       "        text-align: right;\n",
       "    }\n",
       "</style>\n",
       "<table border=\"1\" class=\"dataframe\">\n",
       "  <thead>\n",
       "    <tr style=\"text-align: right;\">\n",
       "      <th></th>\n",
       "      <th>SVD</th>\n",
       "      <th>BPR</th>\n",
       "      <th>Mpop</th>\n",
       "    </tr>\n",
       "  </thead>\n",
       "  <tbody>\n",
       "    <tr>\n",
       "      <th>mrr</th>\n",
       "      <td>0.155430</td>\n",
       "      <td>0.265174</td>\n",
       "      <td>0.224046</td>\n",
       "    </tr>\n",
       "    <tr>\n",
       "      <th>ndcg@10</th>\n",
       "      <td>0.057955</td>\n",
       "      <td>0.114512</td>\n",
       "      <td>0.094328</td>\n",
       "    </tr>\n",
       "    <tr>\n",
       "      <th>recall@10</th>\n",
       "      <td>0.021085</td>\n",
       "      <td>0.061949</td>\n",
       "      <td>0.039711</td>\n",
       "    </tr>\n",
       "    <tr>\n",
       "      <th>precision@10</th>\n",
       "      <td>0.055013</td>\n",
       "      <td>0.113275</td>\n",
       "      <td>0.095656</td>\n",
       "    </tr>\n",
       "    <tr>\n",
       "      <th>hit_rate@10</th>\n",
       "      <td>0.307385</td>\n",
       "      <td>0.560209</td>\n",
       "      <td>0.442224</td>\n",
       "    </tr>\n",
       "  </tbody>\n",
       "</table>\n",
       "</div>\n",
       "    <div class=\"colab-df-buttons\">\n",
       "\n",
       "  <div class=\"colab-df-container\">\n",
       "    <button class=\"colab-df-convert\" onclick=\"convertToInteractive('df-61aa5a7a-7470-4ce4-867b-3d4ea1c0fd47')\"\n",
       "            title=\"Convert this dataframe to an interactive table.\"\n",
       "            style=\"display:none;\">\n",
       "\n",
       "  <svg xmlns=\"http://www.w3.org/2000/svg\" height=\"24px\" viewBox=\"0 -960 960 960\">\n",
       "    <path d=\"M120-120v-720h720v720H120Zm60-500h600v-160H180v160Zm220 220h160v-160H400v160Zm0 220h160v-160H400v160ZM180-400h160v-160H180v160Zm440 0h160v-160H620v160ZM180-180h160v-160H180v160Zm440 0h160v-160H620v160Z\"/>\n",
       "  </svg>\n",
       "    </button>\n",
       "\n",
       "  <style>\n",
       "    .colab-df-container {\n",
       "      display:flex;\n",
       "      gap: 12px;\n",
       "    }\n",
       "\n",
       "    .colab-df-convert {\n",
       "      background-color: #E8F0FE;\n",
       "      border: none;\n",
       "      border-radius: 50%;\n",
       "      cursor: pointer;\n",
       "      display: none;\n",
       "      fill: #1967D2;\n",
       "      height: 32px;\n",
       "      padding: 0 0 0 0;\n",
       "      width: 32px;\n",
       "    }\n",
       "\n",
       "    .colab-df-convert:hover {\n",
       "      background-color: #E2EBFA;\n",
       "      box-shadow: 0px 1px 2px rgba(60, 64, 67, 0.3), 0px 1px 3px 1px rgba(60, 64, 67, 0.15);\n",
       "      fill: #174EA6;\n",
       "    }\n",
       "\n",
       "    .colab-df-buttons div {\n",
       "      margin-bottom: 4px;\n",
       "    }\n",
       "\n",
       "    [theme=dark] .colab-df-convert {\n",
       "      background-color: #3B4455;\n",
       "      fill: #D2E3FC;\n",
       "    }\n",
       "\n",
       "    [theme=dark] .colab-df-convert:hover {\n",
       "      background-color: #434B5C;\n",
       "      box-shadow: 0px 1px 3px 1px rgba(0, 0, 0, 0.15);\n",
       "      filter: drop-shadow(0px 1px 2px rgba(0, 0, 0, 0.3));\n",
       "      fill: #FFFFFF;\n",
       "    }\n",
       "  </style>\n",
       "\n",
       "    <script>\n",
       "      const buttonEl =\n",
       "        document.querySelector('#df-61aa5a7a-7470-4ce4-867b-3d4ea1c0fd47 button.colab-df-convert');\n",
       "      buttonEl.style.display =\n",
       "        google.colab.kernel.accessAllowed ? 'block' : 'none';\n",
       "\n",
       "      async function convertToInteractive(key) {\n",
       "        const element = document.querySelector('#df-61aa5a7a-7470-4ce4-867b-3d4ea1c0fd47');\n",
       "        const dataTable =\n",
       "          await google.colab.kernel.invokeFunction('convertToInteractive',\n",
       "                                                    [key], {});\n",
       "        if (!dataTable) return;\n",
       "\n",
       "        const docLinkHtml = 'Like what you see? Visit the ' +\n",
       "          '<a target=\"_blank\" href=https://colab.research.google.com/notebooks/data_table.ipynb>data table notebook</a>'\n",
       "          + ' to learn more about interactive tables.';\n",
       "        element.innerHTML = '';\n",
       "        dataTable['output_type'] = 'display_data';\n",
       "        await google.colab.output.renderOutput(dataTable, element);\n",
       "        const docLink = document.createElement('div');\n",
       "        docLink.innerHTML = docLinkHtml;\n",
       "        element.appendChild(docLink);\n",
       "      }\n",
       "    </script>\n",
       "  </div>\n",
       "\n",
       "\n",
       "    <div id=\"df-69521d2d-6c29-4bde-917d-59663bbedf0d\">\n",
       "      <button class=\"colab-df-quickchart\" onclick=\"quickchart('df-69521d2d-6c29-4bde-917d-59663bbedf0d')\"\n",
       "                title=\"Suggest charts\"\n",
       "                style=\"display:none;\">\n",
       "\n",
       "<svg xmlns=\"http://www.w3.org/2000/svg\" height=\"24px\"viewBox=\"0 0 24 24\"\n",
       "     width=\"24px\">\n",
       "    <g>\n",
       "        <path d=\"M19 3H5c-1.1 0-2 .9-2 2v14c0 1.1.9 2 2 2h14c1.1 0 2-.9 2-2V5c0-1.1-.9-2-2-2zM9 17H7v-7h2v7zm4 0h-2V7h2v10zm4 0h-2v-4h2v4z\"/>\n",
       "    </g>\n",
       "</svg>\n",
       "      </button>\n",
       "\n",
       "<style>\n",
       "  .colab-df-quickchart {\n",
       "      --bg-color: #E8F0FE;\n",
       "      --fill-color: #1967D2;\n",
       "      --hover-bg-color: #E2EBFA;\n",
       "      --hover-fill-color: #174EA6;\n",
       "      --disabled-fill-color: #AAA;\n",
       "      --disabled-bg-color: #DDD;\n",
       "  }\n",
       "\n",
       "  [theme=dark] .colab-df-quickchart {\n",
       "      --bg-color: #3B4455;\n",
       "      --fill-color: #D2E3FC;\n",
       "      --hover-bg-color: #434B5C;\n",
       "      --hover-fill-color: #FFFFFF;\n",
       "      --disabled-bg-color: #3B4455;\n",
       "      --disabled-fill-color: #666;\n",
       "  }\n",
       "\n",
       "  .colab-df-quickchart {\n",
       "    background-color: var(--bg-color);\n",
       "    border: none;\n",
       "    border-radius: 50%;\n",
       "    cursor: pointer;\n",
       "    display: none;\n",
       "    fill: var(--fill-color);\n",
       "    height: 32px;\n",
       "    padding: 0;\n",
       "    width: 32px;\n",
       "  }\n",
       "\n",
       "  .colab-df-quickchart:hover {\n",
       "    background-color: var(--hover-bg-color);\n",
       "    box-shadow: 0 1px 2px rgba(60, 64, 67, 0.3), 0 1px 3px 1px rgba(60, 64, 67, 0.15);\n",
       "    fill: var(--button-hover-fill-color);\n",
       "  }\n",
       "\n",
       "  .colab-df-quickchart-complete:disabled,\n",
       "  .colab-df-quickchart-complete:disabled:hover {\n",
       "    background-color: var(--disabled-bg-color);\n",
       "    fill: var(--disabled-fill-color);\n",
       "    box-shadow: none;\n",
       "  }\n",
       "\n",
       "  .colab-df-spinner {\n",
       "    border: 2px solid var(--fill-color);\n",
       "    border-color: transparent;\n",
       "    border-bottom-color: var(--fill-color);\n",
       "    animation:\n",
       "      spin 1s steps(1) infinite;\n",
       "  }\n",
       "\n",
       "  @keyframes spin {\n",
       "    0% {\n",
       "      border-color: transparent;\n",
       "      border-bottom-color: var(--fill-color);\n",
       "      border-left-color: var(--fill-color);\n",
       "    }\n",
       "    20% {\n",
       "      border-color: transparent;\n",
       "      border-left-color: var(--fill-color);\n",
       "      border-top-color: var(--fill-color);\n",
       "    }\n",
       "    30% {\n",
       "      border-color: transparent;\n",
       "      border-left-color: var(--fill-color);\n",
       "      border-top-color: var(--fill-color);\n",
       "      border-right-color: var(--fill-color);\n",
       "    }\n",
       "    40% {\n",
       "      border-color: transparent;\n",
       "      border-right-color: var(--fill-color);\n",
       "      border-top-color: var(--fill-color);\n",
       "    }\n",
       "    60% {\n",
       "      border-color: transparent;\n",
       "      border-right-color: var(--fill-color);\n",
       "    }\n",
       "    80% {\n",
       "      border-color: transparent;\n",
       "      border-right-color: var(--fill-color);\n",
       "      border-bottom-color: var(--fill-color);\n",
       "    }\n",
       "    90% {\n",
       "      border-color: transparent;\n",
       "      border-bottom-color: var(--fill-color);\n",
       "    }\n",
       "  }\n",
       "</style>\n",
       "\n",
       "      <script>\n",
       "        async function quickchart(key) {\n",
       "          const quickchartButtonEl =\n",
       "            document.querySelector('#' + key + ' button');\n",
       "          quickchartButtonEl.disabled = true;  // To prevent multiple clicks.\n",
       "          quickchartButtonEl.classList.add('colab-df-spinner');\n",
       "          try {\n",
       "            const charts = await google.colab.kernel.invokeFunction(\n",
       "                'suggestCharts', [key], {});\n",
       "          } catch (error) {\n",
       "            console.error('Error during call to suggestCharts:', error);\n",
       "          }\n",
       "          quickchartButtonEl.classList.remove('colab-df-spinner');\n",
       "          quickchartButtonEl.classList.add('colab-df-quickchart-complete');\n",
       "        }\n",
       "        (() => {\n",
       "          let quickchartButtonEl =\n",
       "            document.querySelector('#df-69521d2d-6c29-4bde-917d-59663bbedf0d button');\n",
       "          quickchartButtonEl.style.display =\n",
       "            google.colab.kernel.accessAllowed ? 'block' : 'none';\n",
       "        })();\n",
       "      </script>\n",
       "    </div>\n",
       "\n",
       "  <div id=\"id_35ecd421-47fb-4566-b363-b60be7e35c8c\">\n",
       "    <style>\n",
       "      .colab-df-generate {\n",
       "        background-color: #E8F0FE;\n",
       "        border: none;\n",
       "        border-radius: 50%;\n",
       "        cursor: pointer;\n",
       "        display: none;\n",
       "        fill: #1967D2;\n",
       "        height: 32px;\n",
       "        padding: 0 0 0 0;\n",
       "        width: 32px;\n",
       "      }\n",
       "\n",
       "      .colab-df-generate:hover {\n",
       "        background-color: #E2EBFA;\n",
       "        box-shadow: 0px 1px 2px rgba(60, 64, 67, 0.3), 0px 1px 3px 1px rgba(60, 64, 67, 0.15);\n",
       "        fill: #174EA6;\n",
       "      }\n",
       "\n",
       "      [theme=dark] .colab-df-generate {\n",
       "        background-color: #3B4455;\n",
       "        fill: #D2E3FC;\n",
       "      }\n",
       "\n",
       "      [theme=dark] .colab-df-generate:hover {\n",
       "        background-color: #434B5C;\n",
       "        box-shadow: 0px 1px 3px 1px rgba(0, 0, 0, 0.15);\n",
       "        filter: drop-shadow(0px 1px 2px rgba(0, 0, 0, 0.3));\n",
       "        fill: #FFFFFF;\n",
       "      }\n",
       "    </style>\n",
       "    <button class=\"colab-df-generate\" onclick=\"generateWithVariable('rank_all_df')\"\n",
       "            title=\"Generate code using this dataframe.\"\n",
       "            style=\"display:none;\">\n",
       "\n",
       "  <svg xmlns=\"http://www.w3.org/2000/svg\" height=\"24px\"viewBox=\"0 0 24 24\"\n",
       "       width=\"24px\">\n",
       "    <path d=\"M7,19H8.4L18.45,9,17,7.55,7,17.6ZM5,21V16.75L18.45,3.32a2,2,0,0,1,2.83,0l1.4,1.43a1.91,1.91,0,0,1,.58,1.4,1.91,1.91,0,0,1-.58,1.4L9.25,21ZM18.45,9,17,7.55Zm-12,3A5.31,5.31,0,0,0,4.9,8.1,5.31,5.31,0,0,0,1,6.5,5.31,5.31,0,0,0,4.9,4.9,5.31,5.31,0,0,0,6.5,1,5.31,5.31,0,0,0,8.1,4.9,5.31,5.31,0,0,0,12,6.5,5.46,5.46,0,0,0,6.5,12Z\"/>\n",
       "  </svg>\n",
       "    </button>\n",
       "    <script>\n",
       "      (() => {\n",
       "      const buttonEl =\n",
       "        document.querySelector('#id_35ecd421-47fb-4566-b363-b60be7e35c8c button.colab-df-generate');\n",
       "      buttonEl.style.display =\n",
       "        google.colab.kernel.accessAllowed ? 'block' : 'none';\n",
       "\n",
       "      buttonEl.onclick = () => {\n",
       "        google.colab.notebook.generateWithVariable('rank_all_df');\n",
       "      }\n",
       "      })();\n",
       "    </script>\n",
       "  </div>\n",
       "\n",
       "    </div>\n",
       "  </div>\n"
      ],
      "text/plain": [
       "                   SVD       BPR      Mpop\n",
       "mrr           0.155430  0.265174  0.224046\n",
       "ndcg@10       0.057955  0.114512  0.094328\n",
       "recall@10     0.021085  0.061949  0.039711\n",
       "precision@10  0.055013  0.113275  0.095656\n",
       "hit_rate@10   0.307385  0.560209  0.442224"
      ]
     },
     "execution_count": 32,
     "metadata": {},
     "output_type": "execute_result"
    }
   ],
   "source": [
    "rank_all_df"
   ]
  },
  {
   "cell_type": "code",
   "execution_count": null,
   "metadata": {
    "id": "ih_X5R3QsGgp"
   },
   "outputs": [],
   "source": []
  }
 ],
 "metadata": {
  "colab": {
   "authorship_tag": "ABX9TyM6zYqXzb3gcQUp65hibBnM",
   "machine_shape": "hm",
   "mount_file_id": "1W2QpcCr5u-4CgTXDdHLyhrNK7B9PFPme",
   "provenance": []
  },
  "kernelspec": {
   "display_name": "Python 3",
   "language": "python",
   "name": "python3"
  },
  "language_info": {
   "codemirror_mode": {
    "name": "ipython",
    "version": 3
   },
   "file_extension": ".py",
   "mimetype": "text/x-python",
   "name": "python",
   "nbconvert_exporter": "python",
   "pygments_lexer": "ipython3",
   "version": "3.7.6"
  },
  "toc": {
   "base_numbering": 1,
   "nav_menu": {},
   "number_sections": true,
   "sideBar": true,
   "skip_h1_title": false,
   "title_cell": "Table of Contents",
   "title_sidebar": "Contents",
   "toc_cell": false,
   "toc_position": {},
   "toc_section_display": true,
   "toc_window_display": false
  },
  "widgets": {
   "application/vnd.jupyter.widget-state+json": {
    "state": {},
    "082cab20cfda4f68b3c8db9acef50e87": {
     "model_module": "@jupyter-widgets/base",
     "model_module_version": "1.2.0",
     "model_name": "LayoutModel",
     "state": {
      "_model_module": "@jupyter-widgets/base",
      "_model_module_version": "1.2.0",
      "_model_name": "LayoutModel",
      "_view_count": null,
      "_view_module": "@jupyter-widgets/base",
      "_view_module_version": "1.2.0",
      "_view_name": "LayoutView",
      "align_content": null,
      "align_items": null,
      "align_self": null,
      "border": null,
      "bottom": null,
      "display": null,
      "flex": null,
      "flex_flow": null,
      "grid_area": null,
      "grid_auto_columns": null,
      "grid_auto_flow": null,
      "grid_auto_rows": null,
      "grid_column": null,
      "grid_gap": null,
      "grid_row": null,
      "grid_template_areas": null,
      "grid_template_columns": null,
      "grid_template_rows": null,
      "height": null,
      "justify_content": null,
      "justify_items": null,
      "left": null,
      "margin": null,
      "max_height": null,
      "max_width": null,
      "min_height": null,
      "min_width": null,
      "object_fit": null,
      "object_position": null,
      "order": null,
      "overflow": null,
      "overflow_x": null,
      "overflow_y": null,
      "padding": null,
      "right": null,
      "top": null,
      "visibility": null,
      "width": null
     }
    },
    "0b55d484a3d243bb8d886a33447b94a0": {
     "model_module": "@jupyter-widgets/controls",
     "model_module_version": "1.5.0",
     "model_name": "ProgressStyleModel",
     "state": {
      "_model_module": "@jupyter-widgets/controls",
      "_model_module_version": "1.5.0",
      "_model_name": "ProgressStyleModel",
      "_view_count": null,
      "_view_module": "@jupyter-widgets/base",
      "_view_module_version": "1.2.0",
      "_view_name": "StyleView",
      "bar_color": null,
      "description_width": ""
     }
    },
    "13bc599269334398a4d7d08c1a402374": {
     "model_module": "@jupyter-widgets/controls",
     "model_module_version": "1.5.0",
     "model_name": "DescriptionStyleModel",
     "state": {
      "_model_module": "@jupyter-widgets/controls",
      "_model_module_version": "1.5.0",
      "_model_name": "DescriptionStyleModel",
      "_view_count": null,
      "_view_module": "@jupyter-widgets/base",
      "_view_module_version": "1.2.0",
      "_view_name": "StyleView",
      "description_width": ""
     }
    },
    "21730ff1148d44dc89982e6143f360b9": {
     "model_module": "@jupyter-widgets/base",
     "model_module_version": "1.2.0",
     "model_name": "LayoutModel",
     "state": {
      "_model_module": "@jupyter-widgets/base",
      "_model_module_version": "1.2.0",
      "_model_name": "LayoutModel",
      "_view_count": null,
      "_view_module": "@jupyter-widgets/base",
      "_view_module_version": "1.2.0",
      "_view_name": "LayoutView",
      "align_content": null,
      "align_items": null,
      "align_self": null,
      "border": null,
      "bottom": null,
      "display": null,
      "flex": null,
      "flex_flow": null,
      "grid_area": null,
      "grid_auto_columns": null,
      "grid_auto_flow": null,
      "grid_auto_rows": null,
      "grid_column": null,
      "grid_gap": null,
      "grid_row": null,
      "grid_template_areas": null,
      "grid_template_columns": null,
      "grid_template_rows": null,
      "height": null,
      "justify_content": null,
      "justify_items": null,
      "left": null,
      "margin": null,
      "max_height": null,
      "max_width": null,
      "min_height": null,
      "min_width": null,
      "object_fit": null,
      "object_position": null,
      "order": null,
      "overflow": null,
      "overflow_x": null,
      "overflow_y": null,
      "padding": null,
      "right": null,
      "top": null,
      "visibility": null,
      "width": null
     }
    },
    "270c6e78370646a6a8a363f9c30a0d33": {
     "model_module": "@jupyter-widgets/controls",
     "model_module_version": "1.5.0",
     "model_name": "FloatProgressModel",
     "state": {
      "_dom_classes": [],
      "_model_module": "@jupyter-widgets/controls",
      "_model_module_version": "1.5.0",
      "_model_name": "FloatProgressModel",
      "_view_count": null,
      "_view_module": "@jupyter-widgets/controls",
      "_view_module_version": "1.5.0",
      "_view_name": "ProgressView",
      "bar_style": "success",
      "description": "",
      "description_tooltip": null,
      "layout": "IPY_MODEL_2bb5a946718e48869633bdc75d7c157e",
      "max": 5755,
      "min": 0,
      "orientation": "horizontal",
      "style": "IPY_MODEL_0b55d484a3d243bb8d886a33447b94a0",
      "value": 5755
     }
    },
    "2a0d9bbbbc164f398594b136ac119d04": {
     "model_module": "@jupyter-widgets/base",
     "model_module_version": "1.2.0",
     "model_name": "LayoutModel",
     "state": {
      "_model_module": "@jupyter-widgets/base",
      "_model_module_version": "1.2.0",
      "_model_name": "LayoutModel",
      "_view_count": null,
      "_view_module": "@jupyter-widgets/base",
      "_view_module_version": "1.2.0",
      "_view_name": "LayoutView",
      "align_content": null,
      "align_items": null,
      "align_self": null,
      "border": null,
      "bottom": null,
      "display": null,
      "flex": null,
      "flex_flow": null,
      "grid_area": null,
      "grid_auto_columns": null,
      "grid_auto_flow": null,
      "grid_auto_rows": null,
      "grid_column": null,
      "grid_gap": null,
      "grid_row": null,
      "grid_template_areas": null,
      "grid_template_columns": null,
      "grid_template_rows": null,
      "height": null,
      "justify_content": null,
      "justify_items": null,
      "left": null,
      "margin": null,
      "max_height": null,
      "max_width": null,
      "min_height": null,
      "min_width": null,
      "object_fit": null,
      "object_position": null,
      "order": null,
      "overflow": null,
      "overflow_x": null,
      "overflow_y": null,
      "padding": null,
      "right": null,
      "top": null,
      "visibility": null,
      "width": null
     }
    },
    "2bb5a946718e48869633bdc75d7c157e": {
     "model_module": "@jupyter-widgets/base",
     "model_module_version": "1.2.0",
     "model_name": "LayoutModel",
     "state": {
      "_model_module": "@jupyter-widgets/base",
      "_model_module_version": "1.2.0",
      "_model_name": "LayoutModel",
      "_view_count": null,
      "_view_module": "@jupyter-widgets/base",
      "_view_module_version": "1.2.0",
      "_view_name": "LayoutView",
      "align_content": null,
      "align_items": null,
      "align_self": null,
      "border": null,
      "bottom": null,
      "display": null,
      "flex": null,
      "flex_flow": null,
      "grid_area": null,
      "grid_auto_columns": null,
      "grid_auto_flow": null,
      "grid_auto_rows": null,
      "grid_column": null,
      "grid_gap": null,
      "grid_row": null,
      "grid_template_areas": null,
      "grid_template_columns": null,
      "grid_template_rows": null,
      "height": null,
      "justify_content": null,
      "justify_items": null,
      "left": null,
      "margin": null,
      "max_height": null,
      "max_width": null,
      "min_height": null,
      "min_width": null,
      "object_fit": null,
      "object_position": null,
      "order": null,
      "overflow": null,
      "overflow_x": null,
      "overflow_y": null,
      "padding": null,
      "right": null,
      "top": null,
      "visibility": null,
      "width": null
     }
    },
    "30e5f4eb2d334958bca06734ffcd115f": {
     "model_module": "@jupyter-widgets/base",
     "model_module_version": "1.2.0",
     "model_name": "LayoutModel",
     "state": {
      "_model_module": "@jupyter-widgets/base",
      "_model_module_version": "1.2.0",
      "_model_name": "LayoutModel",
      "_view_count": null,
      "_view_module": "@jupyter-widgets/base",
      "_view_module_version": "1.2.0",
      "_view_name": "LayoutView",
      "align_content": null,
      "align_items": null,
      "align_self": null,
      "border": null,
      "bottom": null,
      "display": null,
      "flex": null,
      "flex_flow": null,
      "grid_area": null,
      "grid_auto_columns": null,
      "grid_auto_flow": null,
      "grid_auto_rows": null,
      "grid_column": null,
      "grid_gap": null,
      "grid_row": null,
      "grid_template_areas": null,
      "grid_template_columns": null,
      "grid_template_rows": null,
      "height": null,
      "justify_content": null,
      "justify_items": null,
      "left": null,
      "margin": null,
      "max_height": null,
      "max_width": null,
      "min_height": null,
      "min_width": null,
      "object_fit": null,
      "object_position": null,
      "order": null,
      "overflow": null,
      "overflow_x": null,
      "overflow_y": null,
      "padding": null,
      "right": null,
      "top": null,
      "visibility": null,
      "width": null
     }
    },
    "359c038343954bd3a0d1defc2f7a1337": {
     "model_module": "@jupyter-widgets/controls",
     "model_module_version": "1.5.0",
     "model_name": "DescriptionStyleModel",
     "state": {
      "_model_module": "@jupyter-widgets/controls",
      "_model_module_version": "1.5.0",
      "_model_name": "DescriptionStyleModel",
      "_view_count": null,
      "_view_module": "@jupyter-widgets/base",
      "_view_module_version": "1.2.0",
      "_view_name": "StyleView",
      "description_width": ""
     }
    },
    "3aea748630a541a993d045f3a9c966ca": {
     "model_module": "@jupyter-widgets/base",
     "model_module_version": "1.2.0",
     "model_name": "LayoutModel",
     "state": {
      "_model_module": "@jupyter-widgets/base",
      "_model_module_version": "1.2.0",
      "_model_name": "LayoutModel",
      "_view_count": null,
      "_view_module": "@jupyter-widgets/base",
      "_view_module_version": "1.2.0",
      "_view_name": "LayoutView",
      "align_content": null,
      "align_items": null,
      "align_self": null,
      "border": null,
      "bottom": null,
      "display": null,
      "flex": null,
      "flex_flow": null,
      "grid_area": null,
      "grid_auto_columns": null,
      "grid_auto_flow": null,
      "grid_auto_rows": null,
      "grid_column": null,
      "grid_gap": null,
      "grid_row": null,
      "grid_template_areas": null,
      "grid_template_columns": null,
      "grid_template_rows": null,
      "height": null,
      "justify_content": null,
      "justify_items": null,
      "left": null,
      "margin": null,
      "max_height": null,
      "max_width": null,
      "min_height": null,
      "min_width": null,
      "object_fit": null,
      "object_position": null,
      "order": null,
      "overflow": null,
      "overflow_x": null,
      "overflow_y": null,
      "padding": null,
      "right": null,
      "top": null,
      "visibility": null,
      "width": null
     }
    },
    "3caa1ff692004ebb8d1766243e00b4ba": {
     "model_module": "@jupyter-widgets/base",
     "model_module_version": "1.2.0",
     "model_name": "LayoutModel",
     "state": {
      "_model_module": "@jupyter-widgets/base",
      "_model_module_version": "1.2.0",
      "_model_name": "LayoutModel",
      "_view_count": null,
      "_view_module": "@jupyter-widgets/base",
      "_view_module_version": "1.2.0",
      "_view_name": "LayoutView",
      "align_content": null,
      "align_items": null,
      "align_self": null,
      "border": null,
      "bottom": null,
      "display": null,
      "flex": null,
      "flex_flow": null,
      "grid_area": null,
      "grid_auto_columns": null,
      "grid_auto_flow": null,
      "grid_auto_rows": null,
      "grid_column": null,
      "grid_gap": null,
      "grid_row": null,
      "grid_template_areas": null,
      "grid_template_columns": null,
      "grid_template_rows": null,
      "height": null,
      "justify_content": null,
      "justify_items": null,
      "left": null,
      "margin": null,
      "max_height": null,
      "max_width": null,
      "min_height": null,
      "min_width": null,
      "object_fit": null,
      "object_position": null,
      "order": null,
      "overflow": null,
      "overflow_x": null,
      "overflow_y": null,
      "padding": null,
      "right": null,
      "top": null,
      "visibility": null,
      "width": null
     }
    },
    "4216229db5cf4fbca9ee6178eef5387b": {
     "model_module": "@jupyter-widgets/controls",
     "model_module_version": "1.5.0",
     "model_name": "DescriptionStyleModel",
     "state": {
      "_model_module": "@jupyter-widgets/controls",
      "_model_module_version": "1.5.0",
      "_model_name": "DescriptionStyleModel",
      "_view_count": null,
      "_view_module": "@jupyter-widgets/base",
      "_view_module_version": "1.2.0",
      "_view_name": "StyleView",
      "description_width": ""
     }
    },
    "56af40c01c404a40881085fbaae83a26": {
     "model_module": "@jupyter-widgets/controls",
     "model_module_version": "1.5.0",
     "model_name": "FloatProgressModel",
     "state": {
      "_dom_classes": [],
      "_model_module": "@jupyter-widgets/controls",
      "_model_module_version": "1.5.0",
      "_model_name": "FloatProgressModel",
      "_view_count": null,
      "_view_module": "@jupyter-widgets/controls",
      "_view_module_version": "1.5.0",
      "_view_name": "ProgressView",
      "bar_style": "success",
      "description": "",
      "description_tooltip": null,
      "layout": "IPY_MODEL_3aea748630a541a993d045f3a9c966ca",
      "max": 20,
      "min": 0,
      "orientation": "horizontal",
      "style": "IPY_MODEL_a84175179a6d4c3ba81345dbba8bc2c4",
      "value": 20
     }
    },
    "64d2bafee11c4b34b144e0fa711088f2": {
     "model_module": "@jupyter-widgets/base",
     "model_module_version": "1.2.0",
     "model_name": "LayoutModel",
     "state": {
      "_model_module": "@jupyter-widgets/base",
      "_model_module_version": "1.2.0",
      "_model_name": "LayoutModel",
      "_view_count": null,
      "_view_module": "@jupyter-widgets/base",
      "_view_module_version": "1.2.0",
      "_view_name": "LayoutView",
      "align_content": null,
      "align_items": null,
      "align_self": null,
      "border": null,
      "bottom": null,
      "display": null,
      "flex": null,
      "flex_flow": null,
      "grid_area": null,
      "grid_auto_columns": null,
      "grid_auto_flow": null,
      "grid_auto_rows": null,
      "grid_column": null,
      "grid_gap": null,
      "grid_row": null,
      "grid_template_areas": null,
      "grid_template_columns": null,
      "grid_template_rows": null,
      "height": null,
      "justify_content": null,
      "justify_items": null,
      "left": null,
      "margin": null,
      "max_height": null,
      "max_width": null,
      "min_height": null,
      "min_width": null,
      "object_fit": null,
      "object_position": null,
      "order": null,
      "overflow": null,
      "overflow_x": null,
      "overflow_y": null,
      "padding": null,
      "right": null,
      "top": null,
      "visibility": null,
      "width": null
     }
    },
    "6595418d843349d883aeb58524de23e2": {
     "model_module": "@jupyter-widgets/controls",
     "model_module_version": "1.5.0",
     "model_name": "HTMLModel",
     "state": {
      "_dom_classes": [],
      "_model_module": "@jupyter-widgets/controls",
      "_model_module_version": "1.5.0",
      "_model_name": "HTMLModel",
      "_view_count": null,
      "_view_module": "@jupyter-widgets/controls",
      "_view_module_version": "1.5.0",
      "_view_name": "HTMLView",
      "description": "",
      "description_tooltip": null,
      "layout": "IPY_MODEL_082cab20cfda4f68b3c8db9acef50e87",
      "placeholder": "​",
      "style": "IPY_MODEL_359c038343954bd3a0d1defc2f7a1337",
      "value": " 5755/5755 [01:14&lt;00:00, 88.82it/s]"
     }
    },
    "6ba700485b4c46e4ab44f683ca0c9790": {
     "model_module": "@jupyter-widgets/controls",
     "model_module_version": "1.5.0",
     "model_name": "DescriptionStyleModel",
     "state": {
      "_model_module": "@jupyter-widgets/controls",
      "_model_module_version": "1.5.0",
      "_model_name": "DescriptionStyleModel",
      "_view_count": null,
      "_view_module": "@jupyter-widgets/base",
      "_view_module_version": "1.2.0",
      "_view_name": "StyleView",
      "description_width": ""
     }
    },
    "71b0c8ed00e44860bd60dfdd0f6f8913": {
     "model_module": "@jupyter-widgets/controls",
     "model_module_version": "1.5.0",
     "model_name": "FloatProgressModel",
     "state": {
      "_dom_classes": [],
      "_model_module": "@jupyter-widgets/controls",
      "_model_module_version": "1.5.0",
      "_model_name": "FloatProgressModel",
      "_view_count": null,
      "_view_module": "@jupyter-widgets/controls",
      "_view_module_version": "1.5.0",
      "_view_name": "ProgressView",
      "bar_style": "success",
      "description": "",
      "description_tooltip": null,
      "layout": "IPY_MODEL_82e0a5d1165249d7a6da411b088f362e",
      "max": 70,
      "min": 0,
      "orientation": "horizontal",
      "style": "IPY_MODEL_8025fc9657134008af8abf43aba58730",
      "value": 70
     }
    },
    "7bcb913c22724a9e83b5878ffbd6dc5a": {
     "model_module": "@jupyter-widgets/controls",
     "model_module_version": "1.5.0",
     "model_name": "DescriptionStyleModel",
     "state": {
      "_model_module": "@jupyter-widgets/controls",
      "_model_module_version": "1.5.0",
      "_model_name": "DescriptionStyleModel",
      "_view_count": null,
      "_view_module": "@jupyter-widgets/base",
      "_view_module_version": "1.2.0",
      "_view_name": "StyleView",
      "description_width": ""
     }
    },
    "8025fc9657134008af8abf43aba58730": {
     "model_module": "@jupyter-widgets/controls",
     "model_module_version": "1.5.0",
     "model_name": "ProgressStyleModel",
     "state": {
      "_model_module": "@jupyter-widgets/controls",
      "_model_module_version": "1.5.0",
      "_model_name": "ProgressStyleModel",
      "_view_count": null,
      "_view_module": "@jupyter-widgets/base",
      "_view_module_version": "1.2.0",
      "_view_name": "StyleView",
      "bar_color": null,
      "description_width": ""
     }
    },
    "82e0a5d1165249d7a6da411b088f362e": {
     "model_module": "@jupyter-widgets/base",
     "model_module_version": "1.2.0",
     "model_name": "LayoutModel",
     "state": {
      "_model_module": "@jupyter-widgets/base",
      "_model_module_version": "1.2.0",
      "_model_name": "LayoutModel",
      "_view_count": null,
      "_view_module": "@jupyter-widgets/base",
      "_view_module_version": "1.2.0",
      "_view_name": "LayoutView",
      "align_content": null,
      "align_items": null,
      "align_self": null,
      "border": null,
      "bottom": null,
      "display": null,
      "flex": null,
      "flex_flow": null,
      "grid_area": null,
      "grid_auto_columns": null,
      "grid_auto_flow": null,
      "grid_auto_rows": null,
      "grid_column": null,
      "grid_gap": null,
      "grid_row": null,
      "grid_template_areas": null,
      "grid_template_columns": null,
      "grid_template_rows": null,
      "height": null,
      "justify_content": null,
      "justify_items": null,
      "left": null,
      "margin": null,
      "max_height": null,
      "max_width": null,
      "min_height": null,
      "min_width": null,
      "object_fit": null,
      "object_position": null,
      "order": null,
      "overflow": null,
      "overflow_x": null,
      "overflow_y": null,
      "padding": null,
      "right": null,
      "top": null,
      "visibility": null,
      "width": null
     }
    },
    "931c72fb5dc1465ebc1c1b630ec68bd4": {
     "model_module": "@jupyter-widgets/controls",
     "model_module_version": "1.5.0",
     "model_name": "HTMLModel",
     "state": {
      "_dom_classes": [],
      "_model_module": "@jupyter-widgets/controls",
      "_model_module_version": "1.5.0",
      "_model_name": "HTMLModel",
      "_view_count": null,
      "_view_module": "@jupyter-widgets/controls",
      "_view_module_version": "1.5.0",
      "_view_name": "HTMLView",
      "description": "",
      "description_tooltip": null,
      "layout": "IPY_MODEL_21730ff1148d44dc89982e6143f360b9",
      "placeholder": "​",
      "style": "IPY_MODEL_4216229db5cf4fbca9ee6178eef5387b",
      "value": " 20/20 [00:02&lt;00:00,  8.08it/s, correct=86.38%, skipped=7.11%]"
     }
    },
    "9483f0c05a4d41a3bb32456218be9211": {
     "model_module": "@jupyter-widgets/controls",
     "model_module_version": "1.5.0",
     "model_name": "DescriptionStyleModel",
     "state": {
      "_model_module": "@jupyter-widgets/controls",
      "_model_module_version": "1.5.0",
      "_model_name": "DescriptionStyleModel",
      "_view_count": null,
      "_view_module": "@jupyter-widgets/base",
      "_view_module_version": "1.2.0",
      "_view_name": "StyleView",
      "description_width": ""
     }
    },
    "94eaf0acd14c4de2ac34565267e5386a": {
     "model_module": "@jupyter-widgets/controls",
     "model_module_version": "1.5.0",
     "model_name": "HTMLModel",
     "state": {
      "_dom_classes": [],
      "_model_module": "@jupyter-widgets/controls",
      "_model_module_version": "1.5.0",
      "_model_name": "HTMLModel",
      "_view_count": null,
      "_view_module": "@jupyter-widgets/controls",
      "_view_module_version": "1.5.0",
      "_view_name": "HTMLView",
      "description": "",
      "description_tooltip": null,
      "layout": "IPY_MODEL_64d2bafee11c4b34b144e0fa711088f2",
      "placeholder": "​",
      "style": "IPY_MODEL_9483f0c05a4d41a3bb32456218be9211",
      "value": "100%"
     }
    },
    "9509b648b0774e7b9b8d68ad0857cf40": {
     "model_module": "@jupyter-widgets/controls",
     "model_module_version": "1.5.0",
     "model_name": "ProgressStyleModel",
     "state": {
      "_model_module": "@jupyter-widgets/controls",
      "_model_module_version": "1.5.0",
      "_model_name": "ProgressStyleModel",
      "_view_count": null,
      "_view_module": "@jupyter-widgets/base",
      "_view_module_version": "1.2.0",
      "_view_name": "StyleView",
      "bar_color": null,
      "description_width": ""
     }
    },
    "97c292ff70d348a09339e7bedf6f349f": {
     "model_module": "@jupyter-widgets/base",
     "model_module_version": "1.2.0",
     "model_name": "LayoutModel",
     "state": {
      "_model_module": "@jupyter-widgets/base",
      "_model_module_version": "1.2.0",
      "_model_name": "LayoutModel",
      "_view_count": null,
      "_view_module": "@jupyter-widgets/base",
      "_view_module_version": "1.2.0",
      "_view_name": "LayoutView",
      "align_content": null,
      "align_items": null,
      "align_self": null,
      "border": null,
      "bottom": null,
      "display": null,
      "flex": null,
      "flex_flow": null,
      "grid_area": null,
      "grid_auto_columns": null,
      "grid_auto_flow": null,
      "grid_auto_rows": null,
      "grid_column": null,
      "grid_gap": null,
      "grid_row": null,
      "grid_template_areas": null,
      "grid_template_columns": null,
      "grid_template_rows": null,
      "height": null,
      "justify_content": null,
      "justify_items": null,
      "left": null,
      "margin": null,
      "max_height": null,
      "max_width": null,
      "min_height": null,
      "min_width": null,
      "object_fit": null,
      "object_position": null,
      "order": null,
      "overflow": null,
      "overflow_x": null,
      "overflow_y": null,
      "padding": null,
      "right": null,
      "top": null,
      "visibility": null,
      "width": null
     }
    },
    "99c462d84e5d48149fe6f808c54a7dc9": {
     "model_module": "@jupyter-widgets/controls",
     "model_module_version": "1.5.0",
     "model_name": "DescriptionStyleModel",
     "state": {
      "_model_module": "@jupyter-widgets/controls",
      "_model_module_version": "1.5.0",
      "_model_name": "DescriptionStyleModel",
      "_view_count": null,
      "_view_module": "@jupyter-widgets/base",
      "_view_module_version": "1.2.0",
      "_view_name": "StyleView",
      "description_width": ""
     }
    },
    "9d3bb44e2c2e4aef8328d0608a424b16": {
     "model_module": "@jupyter-widgets/base",
     "model_module_version": "1.2.0",
     "model_name": "LayoutModel",
     "state": {
      "_model_module": "@jupyter-widgets/base",
      "_model_module_version": "1.2.0",
      "_model_name": "LayoutModel",
      "_view_count": null,
      "_view_module": "@jupyter-widgets/base",
      "_view_module_version": "1.2.0",
      "_view_name": "LayoutView",
      "align_content": null,
      "align_items": null,
      "align_self": null,
      "border": null,
      "bottom": null,
      "display": null,
      "flex": null,
      "flex_flow": null,
      "grid_area": null,
      "grid_auto_columns": null,
      "grid_auto_flow": null,
      "grid_auto_rows": null,
      "grid_column": null,
      "grid_gap": null,
      "grid_row": null,
      "grid_template_areas": null,
      "grid_template_columns": null,
      "grid_template_rows": null,
      "height": null,
      "justify_content": null,
      "justify_items": null,
      "left": null,
      "margin": null,
      "max_height": null,
      "max_width": null,
      "min_height": null,
      "min_width": null,
      "object_fit": null,
      "object_position": null,
      "order": null,
      "overflow": null,
      "overflow_x": null,
      "overflow_y": null,
      "padding": null,
      "right": null,
      "top": null,
      "visibility": null,
      "width": null
     }
    },
    "9ea709498a6a48b6a3f8537b31de3d3a": {
     "model_module": "@jupyter-widgets/base",
     "model_module_version": "1.2.0",
     "model_name": "LayoutModel",
     "state": {
      "_model_module": "@jupyter-widgets/base",
      "_model_module_version": "1.2.0",
      "_model_name": "LayoutModel",
      "_view_count": null,
      "_view_module": "@jupyter-widgets/base",
      "_view_module_version": "1.2.0",
      "_view_name": "LayoutView",
      "align_content": null,
      "align_items": null,
      "align_self": null,
      "border": null,
      "bottom": null,
      "display": null,
      "flex": null,
      "flex_flow": null,
      "grid_area": null,
      "grid_auto_columns": null,
      "grid_auto_flow": null,
      "grid_auto_rows": null,
      "grid_column": null,
      "grid_gap": null,
      "grid_row": null,
      "grid_template_areas": null,
      "grid_template_columns": null,
      "grid_template_rows": null,
      "height": null,
      "justify_content": null,
      "justify_items": null,
      "left": null,
      "margin": null,
      "max_height": null,
      "max_width": null,
      "min_height": null,
      "min_width": null,
      "object_fit": null,
      "object_position": null,
      "order": null,
      "overflow": null,
      "overflow_x": null,
      "overflow_y": null,
      "padding": null,
      "right": null,
      "top": null,
      "visibility": null,
      "width": null
     }
    },
    "a377a455e19648f382856255660c7ba9": {
     "model_module": "@jupyter-widgets/controls",
     "model_module_version": "1.5.0",
     "model_name": "FloatProgressModel",
     "state": {
      "_dom_classes": [],
      "_model_module": "@jupyter-widgets/controls",
      "_model_module_version": "1.5.0",
      "_model_name": "FloatProgressModel",
      "_view_count": null,
      "_view_module": "@jupyter-widgets/controls",
      "_view_module_version": "1.5.0",
      "_view_name": "ProgressView",
      "bar_style": "success",
      "description": "",
      "description_tooltip": null,
      "layout": "IPY_MODEL_bfbeac06e4e047c7ac4a53411c666e28",
      "max": 5755,
      "min": 0,
      "orientation": "horizontal",
      "style": "IPY_MODEL_9509b648b0774e7b9b8d68ad0857cf40",
      "value": 5755
     }
    },
    "a84175179a6d4c3ba81345dbba8bc2c4": {
     "model_module": "@jupyter-widgets/controls",
     "model_module_version": "1.5.0",
     "model_name": "ProgressStyleModel",
     "state": {
      "_model_module": "@jupyter-widgets/controls",
      "_model_module_version": "1.5.0",
      "_model_name": "ProgressStyleModel",
      "_view_count": null,
      "_view_module": "@jupyter-widgets/base",
      "_view_module_version": "1.2.0",
      "_view_name": "StyleView",
      "bar_color": null,
      "description_width": ""
     }
    },
    "bfbeac06e4e047c7ac4a53411c666e28": {
     "model_module": "@jupyter-widgets/base",
     "model_module_version": "1.2.0",
     "model_name": "LayoutModel",
     "state": {
      "_model_module": "@jupyter-widgets/base",
      "_model_module_version": "1.2.0",
      "_model_name": "LayoutModel",
      "_view_count": null,
      "_view_module": "@jupyter-widgets/base",
      "_view_module_version": "1.2.0",
      "_view_name": "LayoutView",
      "align_content": null,
      "align_items": null,
      "align_self": null,
      "border": null,
      "bottom": null,
      "display": null,
      "flex": null,
      "flex_flow": null,
      "grid_area": null,
      "grid_auto_columns": null,
      "grid_auto_flow": null,
      "grid_auto_rows": null,
      "grid_column": null,
      "grid_gap": null,
      "grid_row": null,
      "grid_template_areas": null,
      "grid_template_columns": null,
      "grid_template_rows": null,
      "height": null,
      "justify_content": null,
      "justify_items": null,
      "left": null,
      "margin": null,
      "max_height": null,
      "max_width": null,
      "min_height": null,
      "min_width": null,
      "object_fit": null,
      "object_position": null,
      "order": null,
      "overflow": null,
      "overflow_x": null,
      "overflow_y": null,
      "padding": null,
      "right": null,
      "top": null,
      "visibility": null,
      "width": null
     }
    },
    "c36d6ad453db4acc868865086f7551de": {
     "model_module": "@jupyter-widgets/base",
     "model_module_version": "1.2.0",
     "model_name": "LayoutModel",
     "state": {
      "_model_module": "@jupyter-widgets/base",
      "_model_module_version": "1.2.0",
      "_model_name": "LayoutModel",
      "_view_count": null,
      "_view_module": "@jupyter-widgets/base",
      "_view_module_version": "1.2.0",
      "_view_name": "LayoutView",
      "align_content": null,
      "align_items": null,
      "align_self": null,
      "border": null,
      "bottom": null,
      "display": null,
      "flex": null,
      "flex_flow": null,
      "grid_area": null,
      "grid_auto_columns": null,
      "grid_auto_flow": null,
      "grid_auto_rows": null,
      "grid_column": null,
      "grid_gap": null,
      "grid_row": null,
      "grid_template_areas": null,
      "grid_template_columns": null,
      "grid_template_rows": null,
      "height": null,
      "justify_content": null,
      "justify_items": null,
      "left": null,
      "margin": null,
      "max_height": null,
      "max_width": null,
      "min_height": null,
      "min_width": null,
      "object_fit": null,
      "object_position": null,
      "order": null,
      "overflow": null,
      "overflow_x": null,
      "overflow_y": null,
      "padding": null,
      "right": null,
      "top": null,
      "visibility": null,
      "width": null
     }
    },
    "c4229a682ab94e5fbbf0188afb329674": {
     "model_module": "@jupyter-widgets/controls",
     "model_module_version": "1.5.0",
     "model_name": "HTMLModel",
     "state": {
      "_dom_classes": [],
      "_model_module": "@jupyter-widgets/controls",
      "_model_module_version": "1.5.0",
      "_model_name": "HTMLModel",
      "_view_count": null,
      "_view_module": "@jupyter-widgets/controls",
      "_view_module_version": "1.5.0",
      "_view_name": "HTMLView",
      "description": "",
      "description_tooltip": null,
      "layout": "IPY_MODEL_30e5f4eb2d334958bca06734ffcd115f",
      "placeholder": "​",
      "style": "IPY_MODEL_ff04c7e8fd154b9eaa0b0d8ce2a4eaf3",
      "value": "100%"
     }
    },
    "d42511ff8e6e40aa965ebdf5acdaad04": {
     "model_module": "@jupyter-widgets/controls",
     "model_module_version": "1.5.0",
     "model_name": "HBoxModel",
     "state": {
      "_dom_classes": [],
      "_model_module": "@jupyter-widgets/controls",
      "_model_module_version": "1.5.0",
      "_model_name": "HBoxModel",
      "_view_count": null,
      "_view_module": "@jupyter-widgets/controls",
      "_view_module_version": "1.5.0",
      "_view_name": "HBoxView",
      "box_style": "",
      "children": [
       "IPY_MODEL_94eaf0acd14c4de2ac34565267e5386a",
       "IPY_MODEL_a377a455e19648f382856255660c7ba9",
       "IPY_MODEL_da7e13976e2d4c7abdb3197f855c6090"
      ],
      "layout": "IPY_MODEL_9d3bb44e2c2e4aef8328d0608a424b16"
     }
    },
    "d66970dd6ad6465dbac1f3d35d6c7e33": {
     "model_module": "@jupyter-widgets/controls",
     "model_module_version": "1.5.0",
     "model_name": "HBoxModel",
     "state": {
      "_dom_classes": [],
      "_model_module": "@jupyter-widgets/controls",
      "_model_module_version": "1.5.0",
      "_model_name": "HBoxModel",
      "_view_count": null,
      "_view_module": "@jupyter-widgets/controls",
      "_view_module_version": "1.5.0",
      "_view_name": "HBoxView",
      "box_style": "",
      "children": [
       "IPY_MODEL_fd53a99e720e40d1a34cf4c19876eab9",
       "IPY_MODEL_56af40c01c404a40881085fbaae83a26",
       "IPY_MODEL_931c72fb5dc1465ebc1c1b630ec68bd4"
      ],
      "layout": "IPY_MODEL_c36d6ad453db4acc868865086f7551de"
     }
    },
    "d931b6a205fe4b629be0fbfbd2744d4d": {
     "model_module": "@jupyter-widgets/controls",
     "model_module_version": "1.5.0",
     "model_name": "HTMLModel",
     "state": {
      "_dom_classes": [],
      "_model_module": "@jupyter-widgets/controls",
      "_model_module_version": "1.5.0",
      "_model_name": "HTMLModel",
      "_view_count": null,
      "_view_module": "@jupyter-widgets/controls",
      "_view_module_version": "1.5.0",
      "_view_name": "HTMLView",
      "description": "",
      "description_tooltip": null,
      "layout": "IPY_MODEL_3caa1ff692004ebb8d1766243e00b4ba",
      "placeholder": "​",
      "style": "IPY_MODEL_99c462d84e5d48149fe6f808c54a7dc9",
      "value": " 70/70 [00:23&lt;00:00,  3.23it/s, correct=93.69%, skipped=7.06%]"
     }
    },
    "d985df58399743a2b8e3d54f6b271a25": {
     "model_module": "@jupyter-widgets/controls",
     "model_module_version": "1.5.0",
     "model_name": "HBoxModel",
     "state": {
      "_dom_classes": [],
      "_model_module": "@jupyter-widgets/controls",
      "_model_module_version": "1.5.0",
      "_model_name": "HBoxModel",
      "_view_count": null,
      "_view_module": "@jupyter-widgets/controls",
      "_view_module_version": "1.5.0",
      "_view_name": "HBoxView",
      "box_style": "",
      "children": [
       "IPY_MODEL_c4229a682ab94e5fbbf0188afb329674",
       "IPY_MODEL_270c6e78370646a6a8a363f9c30a0d33",
       "IPY_MODEL_6595418d843349d883aeb58524de23e2"
      ],
      "layout": "IPY_MODEL_d9934851c16f4b1d85d38d35036829d0"
     }
    },
    "d9934851c16f4b1d85d38d35036829d0": {
     "model_module": "@jupyter-widgets/base",
     "model_module_version": "1.2.0",
     "model_name": "LayoutModel",
     "state": {
      "_model_module": "@jupyter-widgets/base",
      "_model_module_version": "1.2.0",
      "_model_name": "LayoutModel",
      "_view_count": null,
      "_view_module": "@jupyter-widgets/base",
      "_view_module_version": "1.2.0",
      "_view_name": "LayoutView",
      "align_content": null,
      "align_items": null,
      "align_self": null,
      "border": null,
      "bottom": null,
      "display": null,
      "flex": null,
      "flex_flow": null,
      "grid_area": null,
      "grid_auto_columns": null,
      "grid_auto_flow": null,
      "grid_auto_rows": null,
      "grid_column": null,
      "grid_gap": null,
      "grid_row": null,
      "grid_template_areas": null,
      "grid_template_columns": null,
      "grid_template_rows": null,
      "height": null,
      "justify_content": null,
      "justify_items": null,
      "left": null,
      "margin": null,
      "max_height": null,
      "max_width": null,
      "min_height": null,
      "min_width": null,
      "object_fit": null,
      "object_position": null,
      "order": null,
      "overflow": null,
      "overflow_x": null,
      "overflow_y": null,
      "padding": null,
      "right": null,
      "top": null,
      "visibility": null,
      "width": null
     }
    },
    "da7e13976e2d4c7abdb3197f855c6090": {
     "model_module": "@jupyter-widgets/controls",
     "model_module_version": "1.5.0",
     "model_name": "HTMLModel",
     "state": {
      "_dom_classes": [],
      "_model_module": "@jupyter-widgets/controls",
      "_model_module_version": "1.5.0",
      "_model_name": "HTMLModel",
      "_view_count": null,
      "_view_module": "@jupyter-widgets/controls",
      "_view_module_version": "1.5.0",
      "_view_name": "HTMLView",
      "description": "",
      "description_tooltip": null,
      "layout": "IPY_MODEL_fe1ddf7cc95d4dc9b9a049880952594a",
      "placeholder": "​",
      "style": "IPY_MODEL_13bc599269334398a4d7d08c1a402374",
      "value": " 5755/5755 [01:11&lt;00:00, 92.21it/s]"
     }
    },
    "decb9aa0713545af9037e382621763b7": {
     "model_module": "@jupyter-widgets/controls",
     "model_module_version": "1.5.0",
     "model_name": "HBoxModel",
     "state": {
      "_dom_classes": [],
      "_model_module": "@jupyter-widgets/controls",
      "_model_module_version": "1.5.0",
      "_model_name": "HBoxModel",
      "_view_count": null,
      "_view_module": "@jupyter-widgets/controls",
      "_view_module_version": "1.5.0",
      "_view_name": "HBoxView",
      "box_style": "",
      "children": [
       "IPY_MODEL_f5054d4564914814a3df33d0f06ea484",
       "IPY_MODEL_71b0c8ed00e44860bd60dfdd0f6f8913",
       "IPY_MODEL_d931b6a205fe4b629be0fbfbd2744d4d"
      ],
      "layout": "IPY_MODEL_9ea709498a6a48b6a3f8537b31de3d3a"
     }
    },
    "f5054d4564914814a3df33d0f06ea484": {
     "model_module": "@jupyter-widgets/controls",
     "model_module_version": "1.5.0",
     "model_name": "HTMLModel",
     "state": {
      "_dom_classes": [],
      "_model_module": "@jupyter-widgets/controls",
      "_model_module_version": "1.5.0",
      "_model_name": "HTMLModel",
      "_view_count": null,
      "_view_module": "@jupyter-widgets/controls",
      "_view_module_version": "1.5.0",
      "_view_name": "HTMLView",
      "description": "",
      "description_tooltip": null,
      "layout": "IPY_MODEL_2a0d9bbbbc164f398594b136ac119d04",
      "placeholder": "​",
      "style": "IPY_MODEL_6ba700485b4c46e4ab44f683ca0c9790",
      "value": "100%"
     }
    },
    "fd53a99e720e40d1a34cf4c19876eab9": {
     "model_module": "@jupyter-widgets/controls",
     "model_module_version": "1.5.0",
     "model_name": "HTMLModel",
     "state": {
      "_dom_classes": [],
      "_model_module": "@jupyter-widgets/controls",
      "_model_module_version": "1.5.0",
      "_model_name": "HTMLModel",
      "_view_count": null,
      "_view_module": "@jupyter-widgets/controls",
      "_view_module_version": "1.5.0",
      "_view_name": "HTMLView",
      "description": "",
      "description_tooltip": null,
      "layout": "IPY_MODEL_97c292ff70d348a09339e7bedf6f349f",
      "placeholder": "​",
      "style": "IPY_MODEL_7bcb913c22724a9e83b5878ffbd6dc5a",
      "value": "100%"
     }
    },
    "fe1ddf7cc95d4dc9b9a049880952594a": {
     "model_module": "@jupyter-widgets/base",
     "model_module_version": "1.2.0",
     "model_name": "LayoutModel",
     "state": {
      "_model_module": "@jupyter-widgets/base",
      "_model_module_version": "1.2.0",
      "_model_name": "LayoutModel",
      "_view_count": null,
      "_view_module": "@jupyter-widgets/base",
      "_view_module_version": "1.2.0",
      "_view_name": "LayoutView",
      "align_content": null,
      "align_items": null,
      "align_self": null,
      "border": null,
      "bottom": null,
      "display": null,
      "flex": null,
      "flex_flow": null,
      "grid_area": null,
      "grid_auto_columns": null,
      "grid_auto_flow": null,
      "grid_auto_rows": null,
      "grid_column": null,
      "grid_gap": null,
      "grid_row": null,
      "grid_template_areas": null,
      "grid_template_columns": null,
      "grid_template_rows": null,
      "height": null,
      "justify_content": null,
      "justify_items": null,
      "left": null,
      "margin": null,
      "max_height": null,
      "max_width": null,
      "min_height": null,
      "min_width": null,
      "object_fit": null,
      "object_position": null,
      "order": null,
      "overflow": null,
      "overflow_x": null,
      "overflow_y": null,
      "padding": null,
      "right": null,
      "top": null,
      "visibility": null,
      "width": null
     }
    },
    "ff04c7e8fd154b9eaa0b0d8ce2a4eaf3": {
     "model_module": "@jupyter-widgets/controls",
     "model_module_version": "1.5.0",
     "model_name": "DescriptionStyleModel",
     "state": {
      "_model_module": "@jupyter-widgets/controls",
      "_model_module_version": "1.5.0",
      "_model_name": "DescriptionStyleModel",
      "_view_count": null,
      "_view_module": "@jupyter-widgets/base",
      "_view_module_version": "1.2.0",
      "_view_name": "StyleView",
      "description_width": ""
     }
    }
   }
  }
 },
 "nbformat": 4,
 "nbformat_minor": 1
}
